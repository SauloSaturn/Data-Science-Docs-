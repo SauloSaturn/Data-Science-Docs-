{
  "nbformat": 4,
  "nbformat_minor": 0,
  "metadata": {
    "colab": {
      "provenance": [],
      "toc_visible": true,
      "authorship_tag": "ABX9TyNX59oYe3G2E42+n0LThgq2",
      "include_colab_link": true
    },
    "kernelspec": {
      "name": "python3",
      "display_name": "Python 3"
    },
    "language_info": {
      "name": "python"
    }
  },
  "cells": [
    {
      "cell_type": "markdown",
      "metadata": {
        "id": "view-in-github",
        "colab_type": "text"
      },
      "source": [
        "<a href=\"https://colab.research.google.com/github/SauloSaturn/Data-Science-Docs-/blob/main/Introdu%C3%A7%C3%A3o_ao_Python_Num%C3%A9rico.ipynb\" target=\"_parent\"><img src=\"https://colab.research.google.com/assets/colab-badge.svg\" alt=\"Open In Colab\"/></a>"
      ]
    },
    {
      "cell_type": "markdown",
      "source": [
        "# <font color = lightblue>1.Introdução"
      ],
      "metadata": {
        "id": "uRRtCgafhuL_"
      }
    },
    {
      "cell_type": "markdown",
      "source": [
        "## <font color = lightblue>1.1. Execução com o Python\n",
        "\n",
        "Fazendo o uso da primeira função e consequentemente a execução do primeiro código, que tem por objetivo imprimir mensagens na tela chamado de *prompt*, essa função recebe o nome de *print*. Para o uso de tal função use **print( )** com uma mensagem fechada por aspas duplas (\"mensagem\") ou aspas simples ('mensagem') entre os parêntesis."
      ],
      "metadata": {
        "id": "YWLT0XkWSEnY"
      }
    },
    {
      "cell_type": "code",
      "source": [
        "print(\"hello world\")"
      ],
      "metadata": {
        "colab": {
          "base_uri": "https://localhost:8080/"
        },
        "id": "fDZzSeCwTvP_",
        "outputId": "b21fcb3b-315f-4e5f-ecf3-7a9688125092"
      },
      "execution_count": null,
      "outputs": [
        {
          "output_type": "stream",
          "name": "stdout",
          "text": [
            "hello world\n"
          ]
        }
      ]
    },
    {
      "cell_type": "markdown",
      "source": [
        "<font color = lightblue>  **Cerquilha**\n",
        "\n",
        "\n",
        "\n",
        "\n",
        "\n",
        "O uso do símbolo # (cerquilha) é utilizado para fazer comentários, no entanto, as aspas triplas simples ('''mensagem''') também podem ser utilizadas para fazer o mesmo diretamente na tela de código, isto é, no prompt de comando."
      ],
      "metadata": {
        "id": "OnWtEcCNXEFZ"
      }
    },
    {
      "cell_type": "code",
      "source": [
        "# Comentario\n",
        "'''Comentário'''"
      ],
      "metadata": {
        "id": "DJbEC7KmWzAq",
        "colab": {
          "base_uri": "https://localhost:8080/",
          "height": 35
        },
        "outputId": "bc77d102-c00f-4349-94ec-941cb3256370"
      },
      "execution_count": null,
      "outputs": [
        {
          "output_type": "execute_result",
          "data": {
            "text/plain": [
              "'Comentário'"
            ],
            "application/vnd.google.colaboratory.intrinsic+json": {
              "type": "string"
            }
          },
          "metadata": {},
          "execution_count": 2
        }
      ]
    },
    {
      "cell_type": "markdown",
      "source": [
        "## <font color = lightblue>1.2.Interação com o Python\n",
        "A função que interage  diretamente com o usuário é chamada de *input*. Para o uso de tal função use **input( )** com uma mensagem fechada por aspas duplas (\"mensagem\") ou aspas simples ('mensagem') seguida de dois pontos ( : ) entre os parêntesis da função.\n",
        "\n"
      ],
      "metadata": {
        "id": "6TXSuku1O7mU"
      }
    },
    {
      "cell_type": "code",
      "source": [
        "# Input simples.\n",
        "# Vamos criar um inpunt simples.\n",
        "input(\"Digite algo: \")"
      ],
      "metadata": {
        "colab": {
          "base_uri": "https://localhost:8080/",
          "height": 53
        },
        "id": "_wbf41B07TiE",
        "outputId": "99775d2d-ed81-4843-e44f-4064bfe86f01"
      },
      "execution_count": null,
      "outputs": [
        {
          "name": "stdout",
          "output_type": "stream",
          "text": [
            "Digite algo: Meu nome é Saulo\n"
          ]
        },
        {
          "output_type": "execute_result",
          "data": {
            "text/plain": [
              "'Meu nome é Saulo'"
            ],
            "application/vnd.google.colaboratory.intrinsic+json": {
              "type": "string"
            }
          },
          "metadata": {},
          "execution_count": 2
        }
      ]
    },
    {
      "cell_type": "code",
      "source": [
        "# Faremos um print composto de várias mensagens (inputs) de uma só vez.\n",
        "print(\"Olá! Meu nome é\" , input(\"Qual é seu primeiro nome?: \"), input(\"Qual é seu sobrenome?: \"), \"e tenho\" , input(\"Qaual é sua idade?: \"), \"anos.\")"
      ],
      "metadata": {
        "colab": {
          "base_uri": "https://localhost:8080/"
        },
        "id": "iapK2jxW7Ceo",
        "outputId": "feb7f9f3-f677-4c61-8fcd-53412f66c64d"
      },
      "execution_count": null,
      "outputs": [
        {
          "output_type": "stream",
          "name": "stdout",
          "text": [
            "Qual é seu primeiro nome?: Saulo\n",
            "Qual é seu sobrenome?: Maruno\n",
            "Qaual é sua idade?: 29\n",
            "Olá! Meu nome é Saulo Maruno e tenho 29 anos.\n"
          ]
        }
      ]
    },
    {
      "cell_type": "code",
      "source": [
        "# Podemos fazer um print composto de várias mensagens (inputs) de uma só vez de outra forma.\n",
        "# Cada input receberá um \"nome\", isso será necessário para fazer o print.\n",
        "input_nome = input(\"Qual é seu primeiro nome?: \")\n",
        "input_sobrenome = input(\"Qual é seu sobrenome?: \")\n",
        "input_idade = input(\"Qaual é sua idade?: \")\n",
        "# Poderia fazer um print por vez, no entanto, concatenando pode-se compactar.\n",
        "print(\"Olá! Meu nome é \"+ input_nome, input_sobrenome + \" e tenho \" + input_idade + \" anos.\")"
      ],
      "metadata": {
        "colab": {
          "base_uri": "https://localhost:8080/"
        },
        "id": "QcoLU_A4rngy",
        "outputId": "2d9824f7-a472-4ebc-8986-c8fd0cb34c9c"
      },
      "execution_count": null,
      "outputs": [
        {
          "output_type": "stream",
          "name": "stdout",
          "text": [
            "Qual é seu primeiro nome?: Saulo\n",
            "Qual é seu sobrenome?: Maruno\n",
            "Qaual é sua idade?: 29\n",
            "Olá! Meu nome é Saulo Maruno e tenho 29 anos.\n"
          ]
        }
      ]
    },
    {
      "cell_type": "markdown",
      "source": [
        "**Observação**: É de conhecimento que utilizamos nomes seguidos de igualdades para cada um dos inputs serem armazenados e posteriormente concatenados, esses nomes tratam-se de variáveis e junto com a concatenação serão abordados mais adiante no tópico dedicado de variáveis."
      ],
      "metadata": {
        "id": "I7ov63qE52gj"
      }
    },
    {
      "cell_type": "markdown",
      "source": [
        "# <font color = lightblue>2.Operadores\n",
        "Operadores são de suma importância na construção lógica de um algoritmo robustamente estruturado."
      ],
      "metadata": {
        "id": "l2roYZJ9LceJ"
      }
    },
    {
      "cell_type": "markdown",
      "source": [
        "## <font color = lightblue>2.1.Operadores Matemáticos\n",
        "\n",
        "As operações matemáticas podem ser escritas diretamente no prompt."
      ],
      "metadata": {
        "id": "_p_ZRKToX1xH"
      }
    },
    {
      "cell_type": "code",
      "source": [
        "# Soma (+).\n",
        "5 + 3"
      ],
      "metadata": {
        "colab": {
          "base_uri": "https://localhost:8080/"
        },
        "id": "mQllUu4oYPqw",
        "outputId": "473ce2f4-90b4-4c71-f63f-c08061049cb8"
      },
      "execution_count": null,
      "outputs": [
        {
          "output_type": "execute_result",
          "data": {
            "text/plain": [
              "8"
            ]
          },
          "metadata": {},
          "execution_count": 7
        }
      ]
    },
    {
      "cell_type": "code",
      "source": [
        "# Subtração (-).\n",
        "5 - 3"
      ],
      "metadata": {
        "colab": {
          "base_uri": "https://localhost:8080/"
        },
        "id": "8j12mF6SZZyk",
        "outputId": "0418ae5b-4706-490f-a296-582ffb557965"
      },
      "execution_count": null,
      "outputs": [
        {
          "output_type": "execute_result",
          "data": {
            "text/plain": [
              "2"
            ]
          },
          "metadata": {},
          "execution_count": 8
        }
      ]
    },
    {
      "cell_type": "code",
      "source": [
        "# multiplicação (*).\n",
        "5 * 3"
      ],
      "metadata": {
        "colab": {
          "base_uri": "https://localhost:8080/"
        },
        "id": "_QsHD0wYZcZ1",
        "outputId": "cd56163f-27ef-45e6-bac8-e81e2c727220"
      },
      "execution_count": null,
      "outputs": [
        {
          "output_type": "execute_result",
          "data": {
            "text/plain": [
              "15"
            ]
          },
          "metadata": {},
          "execution_count": 9
        }
      ]
    },
    {
      "cell_type": "code",
      "source": [
        "# Potenciação (**).\n",
        "5 ** 3"
      ],
      "metadata": {
        "colab": {
          "base_uri": "https://localhost:8080/"
        },
        "id": "agQYKbwEarv_",
        "outputId": "9b8f4e00-0be7-45e3-f171-507b2143dbe7"
      },
      "execution_count": null,
      "outputs": [
        {
          "output_type": "execute_result",
          "data": {
            "text/plain": [
              "125"
            ]
          },
          "metadata": {},
          "execution_count": 10
        }
      ]
    },
    {
      "cell_type": "code",
      "source": [
        "# Divisão (/).\n",
        "5 / 3"
      ],
      "metadata": {
        "colab": {
          "base_uri": "https://localhost:8080/"
        },
        "id": "CeWI4aVqbZ7i",
        "outputId": "e3133cb1-b8ae-483e-86d0-54c1ddbc01ec"
      },
      "execution_count": null,
      "outputs": [
        {
          "output_type": "execute_result",
          "data": {
            "text/plain": [
              "1.6666666666666667"
            ]
          },
          "metadata": {},
          "execution_count": 11
        }
      ]
    },
    {
      "cell_type": "code",
      "source": [
        "# Divisão Inteira (//).\n",
        "# Caso a divisão tenha como resultado um valor não exato, tal operação só toma como resultado a parte inteira*, dispondo do resto*.\n",
        "5 // 2"
      ],
      "metadata": {
        "colab": {
          "base_uri": "https://localhost:8080/"
        },
        "id": "iLgTqll3bex4",
        "outputId": "d15b1fdf-444b-431c-fe7c-8d0678d67a19"
      },
      "execution_count": null,
      "outputs": [
        {
          "output_type": "execute_result",
          "data": {
            "text/plain": [
              "2"
            ]
          },
          "metadata": {},
          "execution_count": 4
        }
      ]
    },
    {
      "cell_type": "code",
      "source": [
        "# Resto da divisão (%).\n",
        "# Caso a divisão tenha como resultado um valor não exato, tal operação só toma como resultado o resto*, dispondo da parte inteira*.\n",
        "5 % 2"
      ],
      "metadata": {
        "colab": {
          "base_uri": "https://localhost:8080/"
        },
        "id": "y02E0frSbkR-",
        "outputId": "c2338ccd-944a-49ee-f755-716daa685c88"
      },
      "execution_count": null,
      "outputs": [
        {
          "output_type": "execute_result",
          "data": {
            "text/plain": [
              "1"
            ]
          },
          "metadata": {},
          "execution_count": 5
        }
      ]
    },
    {
      "cell_type": "markdown",
      "source": [
        "Muitas vezes será necessária a importação de funções (funções do pacote Python) para se realizar uma tarefa. Para fazer o cálculo de raiz quadrada deve se importar uma função apropriada. No caso *import* *math >* **math.sqrt( )**. Outra forma usual é utilizar um artifício matemático, elevando o número desejado a $1/2$, assim obetendo sua raíz quadrada."
      ],
      "metadata": {
        "id": "a2kFlrrZbu9I"
      }
    },
    {
      "cell_type": "code",
      "source": [
        "# Raíz quadrada utilizando import (import math > math.sqrt( )).\n",
        "import math\n",
        "math.sqrt(16)"
      ],
      "metadata": {
        "colab": {
          "base_uri": "https://localhost:8080/"
        },
        "id": "FW3hnGQhbqmR",
        "outputId": "c84a6b37-d09c-45f7-e03c-0c990983a1ab"
      },
      "execution_count": null,
      "outputs": [
        {
          "output_type": "execute_result",
          "data": {
            "text/plain": [
              "4.0"
            ]
          },
          "metadata": {},
          "execution_count": 14
        }
      ]
    },
    {
      "cell_type": "code",
      "source": [
        "# Raíz quadrada utilizando potência.\n",
        "# Elevando o número a 1/2.\n",
        "16 ** (1/2)"
      ],
      "metadata": {
        "colab": {
          "base_uri": "https://localhost:8080/"
        },
        "id": "B2PRgwvk34A1",
        "outputId": "39ac925f-9f8d-4ed8-cc4c-306820d5cf4f"
      },
      "execution_count": null,
      "outputs": [
        {
          "output_type": "execute_result",
          "data": {
            "text/plain": [
              "4.0"
            ]
          },
          "metadata": {},
          "execution_count": 1
        }
      ]
    },
    {
      "cell_type": "markdown",
      "source": [
        "**Observação**: O assunto de importação de pacotes no Python terá uma discussão em um capítulo dedicado."
      ],
      "metadata": {
        "id": "HJ6uWV8A5OIj"
      }
    },
    {
      "cell_type": "markdown",
      "source": [
        "## <font color = lightblue>2.2. Operadores de Atribuição\n",
        "\n",
        "Os operadores de atribuição são úteis para simplificar a notação aritimética, algébrica e verbalizada de um algoritmo."
      ],
      "metadata": {
        "id": "5-zvbdD8L50g"
      }
    },
    {
      "cell_type": "code",
      "source": [
        "# Atribuiçāo Simples.\n",
        "# x recebe y\n",
        "x = y"
      ],
      "metadata": {
        "id": "5E8EQlJ4MY7N"
      },
      "execution_count": null,
      "outputs": []
    },
    {
      "cell_type": "code",
      "source": [
        "# Atribuição de adição.\n",
        "# x = x + y\n",
        "x += y"
      ],
      "metadata": {
        "id": "CSmOPMFwPs-h"
      },
      "execution_count": null,
      "outputs": []
    },
    {
      "cell_type": "code",
      "source": [
        "# Atrbuição da subtração.\n",
        "# x = x - y\n",
        "x -= y"
      ],
      "metadata": {
        "id": "xNZyPVKlPhzH"
      },
      "execution_count": null,
      "outputs": []
    },
    {
      "cell_type": "code",
      "source": [
        "# Atrbuição da multiplicação.\n",
        "# x = x * y\n",
        "x *= y"
      ],
      "metadata": {
        "id": "Xm-I25H8QkF-"
      },
      "execution_count": null,
      "outputs": []
    },
    {
      "cell_type": "code",
      "source": [
        "# Atribuição da divisão.\n",
        "# x = x / y\n",
        "x /= y"
      ],
      "metadata": {
        "id": "jsly3a_mQw9o"
      },
      "execution_count": null,
      "outputs": []
    },
    {
      "cell_type": "code",
      "source": [
        "# Atribuição da divisão inteira.\n",
        "# x = x // y\n",
        "x //= y"
      ],
      "metadata": {
        "id": "unBP8WibRNv8"
      },
      "execution_count": null,
      "outputs": []
    },
    {
      "cell_type": "code",
      "source": [
        "# Atribuição do resto da divisão inteira.\n",
        "# x = x % y\n",
        "x %= y"
      ],
      "metadata": {
        "id": "1x4gJ0MuRiDG"
      },
      "execution_count": null,
      "outputs": []
    },
    {
      "cell_type": "code",
      "source": [
        "# Atribuição da potência.\n",
        "# x = x ** y\n",
        "x **= y"
      ],
      "metadata": {
        "id": "ChXgH6NzR1CI"
      },
      "execution_count": null,
      "outputs": []
    },
    {
      "cell_type": "markdown",
      "source": [
        "## <font color = lightblue>2.3.Operadores de Comparação\n",
        "Os operadores de comparação ou operadores relacionais tem por objetivo central validar ou não sentenças lógicas, e portanto, sempre quando necessário o uso de um comparativo será retornado um booleano (será tratado devidamente no próximo tópico, por hora, observe os \"**True**\" e \"**False**\" que aparecerão nos códigos abaixo)."
      ],
      "metadata": {
        "id": "3JEDLeCHSyVK"
      }
    },
    {
      "cell_type": "code",
      "source": [
        "# Comparação (==) lógica (igual); comparando se a igualdade é consistente.\n",
        "print(1 ==1)\n",
        "print(1 == 2)"
      ],
      "metadata": {
        "colab": {
          "base_uri": "https://localhost:8080/"
        },
        "id": "um1s20yuuQWF",
        "outputId": "ea869b69-7279-4e7a-fc1a-0d182de66368"
      },
      "execution_count": null,
      "outputs": [
        {
          "output_type": "stream",
          "name": "stdout",
          "text": [
            "True\n",
            "False\n"
          ]
        }
      ]
    },
    {
      "cell_type": "code",
      "source": [
        "# Diferênça (!=).\n",
        "print(2 != 1)\n",
        "print(2 != 2)"
      ],
      "metadata": {
        "colab": {
          "base_uri": "https://localhost:8080/"
        },
        "id": "N6NTaKVtzfFk",
        "outputId": "0aa4e7a6-e81a-4b45-d72e-8023b91742f4"
      },
      "execution_count": null,
      "outputs": [
        {
          "output_type": "stream",
          "name": "stdout",
          "text": [
            "True\n",
            "False\n"
          ]
        }
      ]
    },
    {
      "cell_type": "code",
      "source": [
        "# Maior que (>).\n",
        "print(2 > 1)\n",
        "print(1 > 2)"
      ],
      "metadata": {
        "colab": {
          "base_uri": "https://localhost:8080/"
        },
        "id": "AcAY_3-G3cdJ",
        "outputId": "ad066cb4-a8d4-49cc-bbde-0df915c4f193"
      },
      "execution_count": null,
      "outputs": [
        {
          "output_type": "stream",
          "name": "stdout",
          "text": [
            "True\n",
            "False\n"
          ]
        }
      ]
    },
    {
      "cell_type": "code",
      "source": [
        "# Menor que (<).\n",
        "print(1 < 2)\n",
        "print(2 < 1)"
      ],
      "metadata": {
        "colab": {
          "base_uri": "https://localhost:8080/"
        },
        "id": "b1QsYlFg3sMa",
        "outputId": "acdc699b-3d27-419b-b005-e1a65d7b8e49"
      },
      "execution_count": null,
      "outputs": [
        {
          "output_type": "stream",
          "name": "stdout",
          "text": [
            "True\n",
            "False\n"
          ]
        }
      ]
    },
    {
      "cell_type": "code",
      "source": [
        "# Maior ou igual (>=).\n",
        "print(2 >= 1)\n",
        "print(2 >= 2)\n",
        "print(1 >= 2)"
      ],
      "metadata": {
        "colab": {
          "base_uri": "https://localhost:8080/"
        },
        "id": "KLVy647d361X",
        "outputId": "2f41586c-43f4-4071-ed21-4795b42f1d79"
      },
      "execution_count": null,
      "outputs": [
        {
          "output_type": "stream",
          "name": "stdout",
          "text": [
            "True\n",
            "True\n",
            "False\n"
          ]
        }
      ]
    },
    {
      "cell_type": "code",
      "source": [
        "# Menor ou igual (<=).\n",
        "print(1 <= 2)\n",
        "print(1 <= 1)\n",
        "print(2 <= 1)"
      ],
      "metadata": {
        "colab": {
          "base_uri": "https://localhost:8080/"
        },
        "id": "-bJqyNhE4iwl",
        "outputId": "7e045d35-ee43-4361-eb04-4679fafcbaa7"
      },
      "execution_count": null,
      "outputs": [
        {
          "output_type": "stream",
          "name": "stdout",
          "text": [
            "True\n",
            "True\n",
            "False\n"
          ]
        }
      ]
    },
    {
      "cell_type": "markdown",
      "source": [
        "## <font color = lightblue>2.4.Boolean\n",
        "Booleanos só admite caractéres duais, da forma \"um\" ou \"outro\" excludentes. A forma mais primitiva na linguagem de mais baixo nível só admite 0 ou 1, por exemplo. Booleanos assumem outros valores como \"true\" e \"false\" vistos nos códigos anteriormente, porém podem ser operadores lógicos (tratados no próximo tópico) que também recorrentemente são chamados de operadores booleanos."
      ],
      "metadata": {
        "id": "NPslRYfJ5OID"
      }
    },
    {
      "cell_type": "code",
      "source": [
        "print(1==1)\n",
        "type(1==1) # A função type( ) verifica o tipo de qualquer carctére expresso no prompt."
      ],
      "metadata": {
        "colab": {
          "base_uri": "https://localhost:8080/"
        },
        "id": "e6MY-iO08B-v",
        "outputId": "1051660c-c0e8-4236-8b4f-aa7fb7d51334"
      },
      "execution_count": null,
      "outputs": [
        {
          "output_type": "execute_result",
          "data": {
            "text/plain": [
              "bool"
            ]
          },
          "metadata": {},
          "execution_count": 11
        }
      ]
    },
    {
      "cell_type": "markdown",
      "source": [
        "## <font color = lightblue>2.5.Operadores Lógicos\n",
        "Os operadores lógicos ou operadores booleanos tem como utilidade efetuar comparações de sentenças compostas. Onde os símbolos matemáticos $\\cap$ (união), $\\cup$ (intersecção) e $\\neg$ (negação) são renomeados como **and**, **or** e **not** respectivamente. Há também **is** e **is not**, afim de substituir alguns operadores comparativos."
      ],
      "metadata": {
        "id": "u-K6yUAeVkVB"
      }
    },
    {
      "cell_type": "code",
      "source": [
        "# \"And\" sempre retorna \"true\" quando as comparações forem ambas verdadeiras.\n",
        "print(1 < 2 and 2 > 1)\n",
        "print(1 < 2 and 1 > 2)"
      ],
      "metadata": {
        "colab": {
          "base_uri": "https://localhost:8080/"
        },
        "id": "LGUYrKLUWK3J",
        "outputId": "feb89f20-d120-48d2-9f36-55c75c419c17"
      },
      "execution_count": null,
      "outputs": [
        {
          "output_type": "stream",
          "name": "stdout",
          "text": [
            "True\n",
            "False\n"
          ]
        }
      ]
    },
    {
      "cell_type": "code",
      "source": [
        "# \"Or\" sempre retorna \"true\" quando uma das comparações for verdadeira.\n",
        "print(1 < 2 or 2 > 1)\n",
        "print(1 < 2 or 1 > 2)\n",
        "print(2 < 1 or 1 > 2)"
      ],
      "metadata": {
        "colab": {
          "base_uri": "https://localhost:8080/"
        },
        "id": "TmV7bnq4XW7b",
        "outputId": "9f1407d1-dbbe-4efb-9f6a-acaf274a0fae"
      },
      "execution_count": null,
      "outputs": [
        {
          "output_type": "stream",
          "name": "stdout",
          "text": [
            "True\n",
            "True\n",
            "False\n"
          ]
        }
      ]
    },
    {
      "cell_type": "code",
      "source": [
        "# \"Not\" sempre retorna o inverso lógico de \"true\" e \"false\".\n",
        "n = 1 < 2 and 2 > 1\n",
        "m = 1 < 2 and 1 > 2\n",
        "print(not(n))\n",
        "print(not(m))"
      ],
      "metadata": {
        "colab": {
          "base_uri": "https://localhost:8080/"
        },
        "id": "Kt56NPlUXqAL",
        "outputId": "99b5d396-73f4-4d49-9dbc-548032d4d959"
      },
      "execution_count": null,
      "outputs": [
        {
          "output_type": "stream",
          "name": "stdout",
          "text": [
            "False\n",
            "True\n"
          ]
        }
      ]
    },
    {
      "cell_type": "code",
      "source": [
        "# \"Is\" pode substituir o operador comparativo \" == \".\n",
        "print(2 == 2)\n",
        "print(2 is 2)"
      ],
      "metadata": {
        "colab": {
          "base_uri": "https://localhost:8080/"
        },
        "id": "8y7qzAZOcyMk",
        "outputId": "0b5ff493-411a-4507-d7e5-b8dbdbcf84d9"
      },
      "execution_count": null,
      "outputs": [
        {
          "output_type": "stream",
          "name": "stdout",
          "text": [
            "True\n",
            "True\n"
          ]
        },
        {
          "output_type": "stream",
          "name": "stderr",
          "text": [
            "<>:3: SyntaxWarning: \"is\" with a literal. Did you mean \"==\"?\n",
            "<>:3: SyntaxWarning: \"is\" with a literal. Did you mean \"==\"?\n",
            "<ipython-input-19-e4ffe551fbaa>:3: SyntaxWarning: \"is\" with a literal. Did you mean \"==\"?\n",
            "  print(2 is 2)\n"
          ]
        }
      ]
    },
    {
      "cell_type": "code",
      "source": [
        "# \"Is not\" pode substituir o operador comparativo \" := \".\n",
        "print(2 != 1)\n",
        "print(2 is not 1)"
      ],
      "metadata": {
        "colab": {
          "base_uri": "https://localhost:8080/"
        },
        "id": "wMSBlpbteNvR",
        "outputId": "9c24283a-82e8-4e06-9cd9-52d9014ac2df"
      },
      "execution_count": null,
      "outputs": [
        {
          "output_type": "stream",
          "name": "stdout",
          "text": [
            "True\n",
            "True\n",
            "True\n"
          ]
        },
        {
          "output_type": "stream",
          "name": "stderr",
          "text": [
            "<>:3: SyntaxWarning: \"is not\" with a literal. Did you mean \"!=\"?\n",
            "<>:4: SyntaxWarning: \"is\" with a literal. Did you mean \"==\"?\n",
            "<>:3: SyntaxWarning: \"is not\" with a literal. Did you mean \"!=\"?\n",
            "<>:4: SyntaxWarning: \"is\" with a literal. Did you mean \"==\"?\n",
            "<ipython-input-23-5bf9ddf05d49>:3: SyntaxWarning: \"is not\" with a literal. Did you mean \"!=\"?\n",
            "  print(2 is not 1)\n",
            "<ipython-input-23-5bf9ddf05d49>:4: SyntaxWarning: \"is\" with a literal. Did you mean \"==\"?\n",
            "  print(3 is 3)\n"
          ]
        }
      ]
    },
    {
      "cell_type": "markdown",
      "source": [
        "# <font color = lightblue>3.Variáveis\n",
        "\n",
        "As variáveis assim como na matemática trata-se de valores arbitrários, os quais podem receber qualquer valor ou caractére.\n",
        "Para declarar uma variável, basta escolher um nome (identificador) para nomea-la e usar um sinal de *igual* ( $=$ ). Vale dizer que ao longo do estudo até o presente momento elas foram usadas em praticamente tudo. Pela política de boas práticas em Python, variáveis e funções(serão tratadas mais adiante) seus identificadores sempre começam com letras e sendo elas minúsculas, e separadas por underscore( _ ) caso seja uma composição delas.\n",
        "\n",
        "\n"
      ],
      "metadata": {
        "id": "MY0GJXVePRMB"
      }
    },
    {
      "cell_type": "code",
      "source": [
        "# lê-se: var recebe 2\n",
        "var = 2\n",
        "print(var)"
      ],
      "metadata": {
        "colab": {
          "base_uri": "https://localhost:8080/"
        },
        "id": "Iv5oNE2yDDjB",
        "outputId": "b65aa27d-9865-44cf-f578-90be2ff86c0c"
      },
      "execution_count": null,
      "outputs": [
        {
          "output_type": "stream",
          "name": "stdout",
          "text": [
            "2\n"
          ]
        }
      ]
    },
    {
      "cell_type": "markdown",
      "source": [
        "## <font color = lightblue>3.1.Tipos de Variáveis\n",
        "\n",
        "\n",
        "Principais tipos de variáveis são:\n",
        "\n",
        "*inteiros* ($\\mathbb{Z}$).\n",
        "\n",
        "*flutuantes* ($\\mathbb{R}$).\n",
        "\n",
        "*strings* (textos e demais caractéres).\n",
        "\n"
      ],
      "metadata": {
        "id": "opZ2xwU2V6-E"
      }
    },
    {
      "cell_type": "code",
      "source": [
        "# varável inteira\n",
        "var_int = 2\n",
        "# varável flutuante\n",
        "var_float = 2.1\n",
        "# variável string\n",
        "var_string = \"abc\"\n",
        "print(\"inteiro\", var_int, \"flutuante\", var_float, \"string\", var_string)"
      ],
      "metadata": {
        "colab": {
          "base_uri": "https://localhost:8080/"
        },
        "id": "Tem8crwvQbt5",
        "outputId": "73861785-902a-4f3f-a613-f0a6a7a37144"
      },
      "execution_count": null,
      "outputs": [
        {
          "output_type": "stream",
          "name": "stdout",
          "text": [
            "inteiro 2 flutuante 2.1 string abc\n"
          ]
        }
      ]
    },
    {
      "cell_type": "markdown",
      "source": [
        "Embora os tipos elementares de variáveis sejam numéricas e textuais, pode-se estrapolar pra outros tipos de variáveis específicas para determinadas circunstâncias. São algumas delas:"
      ],
      "metadata": {
        "id": "zyzhkoyN4n70"
      }
    },
    {
      "cell_type": "code",
      "source": [
        "string = str(\"Hello World\")\n",
        "inteiro = int(1)\n",
        "flutuante = float(1.1)\n",
        "complexo = complex(1j)\n",
        "lista = list([\"1\", 2 , \"três\"])\n",
        "tupula = tuple((\"1\", 2 , \"três\"))\n",
        "dicionário = dict({\"1\" : 1, \"2\" : 3, \"três\" : 3})\n",
        "contjunto = set((\"A\", \"B\", \"C\"))\n",
        "byte = bytes(1)\n",
        "# Mais adiante veremos isso de forma mais abrangente em tipos de dados."
      ],
      "metadata": {
        "id": "Uf4Dn3i-XkAC"
      },
      "execution_count": null,
      "outputs": []
    },
    {
      "cell_type": "code",
      "source": [
        "# Para verificar o tipo de uma variável use o comando type( ).\n",
        "print(type(1))\n",
        "print(type([1,2,3]))\n",
        "print(type(\"Hello\"))"
      ],
      "metadata": {
        "colab": {
          "base_uri": "https://localhost:8080/"
        },
        "id": "56RgsORBOao0",
        "outputId": "43f1348a-8d1e-4cf5-a590-5b19d6c54aee"
      },
      "execution_count": null,
      "outputs": [
        {
          "output_type": "stream",
          "name": "stdout",
          "text": [
            "<class 'int'>\n",
            "<class 'list'>\n",
            "<class 'str'>\n"
          ]
        }
      ]
    },
    {
      "cell_type": "code",
      "source": [
        "lista_aninhada = [[1,2,3],[4,5,6,7],[8,9],[[10,11,12], [13, 14, 15]]]\n",
        "lista_aninhada[3][1][0]\n"
      ],
      "metadata": {
        "colab": {
          "base_uri": "https://localhost:8080/"
        },
        "id": "kZJNBaOeIlx7",
        "outputId": "f4efc9f6-0dd4-4857-ab50-c3ca36afbd3b"
      },
      "execution_count": null,
      "outputs": [
        {
          "output_type": "execute_result",
          "data": {
            "text/plain": [
              "13"
            ]
          },
          "metadata": {},
          "execution_count": 1
        }
      ]
    },
    {
      "cell_type": "markdown",
      "source": [
        "## <font color = lightblue>3.2.Declarações e Operacões de Variáveis\n",
        "\n",
        "<font color = lightblue> Declaração Múltipla de Variáveis\n",
        "\n",
        "\n",
        "Podemos declarar simultaneamete inúmeras variáveis, de tal modo que simplifique o código."
      ],
      "metadata": {
        "id": "QLE4VUuxfZz8"
      }
    },
    {
      "cell_type": "code",
      "source": [
        "# Declarando simultaneamente.\n",
        "# Declarando (tipo 1):\n",
        "um, dois, tres = 1, 2, 3\n",
        "print(um, dois, tres)\n",
        "# Declarando (tipo 2):\n",
        "a = b = c = 20\n",
        "print(a, b, c)"
      ],
      "metadata": {
        "colab": {
          "base_uri": "https://localhost:8080/"
        },
        "id": "oMBmC9IdkFia",
        "outputId": "cfe33a35-ad05-40ce-fb69-911982c2058d"
      },
      "execution_count": null,
      "outputs": [
        {
          "output_type": "stream",
          "name": "stdout",
          "text": [
            "1 2 3\n",
            "20 20 20\n"
          ]
        }
      ]
    },
    {
      "cell_type": "markdown",
      "source": [
        "<font color = lightblue> Concatenação\n",
        "\n",
        "É possível operar entre strings (**concatenação**). Para operar strings e números serão necessárias conversões."
      ],
      "metadata": {
        "id": "VYYboOk11HR2"
      }
    },
    {
      "cell_type": "code",
      "source": [
        "=# Concatenando variáveis.\n",
        "var_1 = \"Variá\"\n",
        "var_2 = \"veis\"\n",
        "print(var_1 + var_2)"
      ],
      "metadata": {
        "colab": {
          "base_uri": "https://localhost:8080/"
        },
        "id": "vNVJBJLCfZIA",
        "outputId": "9886ca5c-e7c7-4b67-a0ef-d3a307ac5133"
      },
      "execution_count": null,
      "outputs": [
        {
          "output_type": "stream",
          "name": "stdout",
          "text": [
            "Variáveis\n"
          ]
        }
      ]
    },
    {
      "cell_type": "markdown",
      "source": [
        "<font color = lightblue> Type Casting\n",
        "\n",
        "Pode se fazer uma conversão de um valor/caractére de uma variável através de uma declaração do type de um dado desejado, e entre parêntesis, o valor/caractére que deseja converter."
      ],
      "metadata": {
        "id": "P_sd3J8mxjY7"
      }
    },
    {
      "cell_type": "code",
      "source": [
        "# Type Casting (Convertendo uma variável)\n",
        "var_3 = int(2.5)\n",
        "print(var_3)"
      ],
      "metadata": {
        "colab": {
          "base_uri": "https://localhost:8080/"
        },
        "id": "ONB3p0HWzfPr",
        "outputId": "2a80c5a0-25df-43c0-f447-6d4e56b5473b"
      },
      "execution_count": null,
      "outputs": [
        {
          "output_type": "stream",
          "name": "stdout",
          "text": [
            "2\n"
          ]
        }
      ]
    },
    {
      "cell_type": "markdown",
      "source": [
        "Usando o Type Casting podemos operar diferente tipos de variáveis."
      ],
      "metadata": {
        "id": "uBzkczqZ0eqO"
      }
    },
    {
      "cell_type": "code",
      "source": [
        "# Convertendo int para str:\n",
        "var_4 = var_1\n",
        "var_5 = str(3)\n",
        "# Operando:\n",
        "print((var_4) + (var_5))\n",
        "# Convertendo e operando float como str:\n",
        "var_6 = int(\"2\")\n",
        "var_7 = 30\n",
        "print((var_6) * (var_7))"
      ],
      "metadata": {
        "colab": {
          "base_uri": "https://localhost:8080/"
        },
        "id": "-d3nIyVdp6CG",
        "outputId": "3a3c2d28-6b22-4cfb-a6f1-cd6b4d1d7afb"
      },
      "execution_count": null,
      "outputs": [
        {
          "output_type": "stream",
          "name": "stdout",
          "text": [
            "Variá3\n",
            "60\n"
          ]
        }
      ]
    },
    {
      "cell_type": "markdown",
      "source": [
        "## <font color = lightblue>3.3.Tratamento de Variáveis\n",
        "\n",
        "Muitas vezes é necessário dar uma polida nas variáveis antes de trabalhar com elas. Algums funções abaixo podem auxiliar para o devido tratamento de variáveis.\n",
        "\n"
      ],
      "metadata": {
        "id": "k3yIyXrEdgdr"
      }
    },
    {
      "cell_type": "markdown",
      "source": [
        "<font color = lightblue> Arredondadmento de valores float\n",
        "\n",
        "Usa-se a *round* para arredondamentos, dessa maneira, a função **round( )** é útil quando existem variáveis do tipo *float* com muitas casas decimais.\n"
      ],
      "metadata": {
        "id": "zkNKmhPZfH73"
      }
    },
    {
      "cell_type": "code",
      "source": [
        "pi = 3.141595\n",
        "print(pi)\n",
        "# Na função usamos a variável que queremos efetuar o arredondamento e depois o parâmetro de quantos decimais.\n",
        "round(pi, 2)"
      ],
      "metadata": {
        "colab": {
          "base_uri": "https://localhost:8080/"
        },
        "id": "upsmlgswf4pq",
        "outputId": "84a633b0-8737-413b-adb3-5c2f03ca0121"
      },
      "execution_count": null,
      "outputs": [
        {
          "output_type": "stream",
          "name": "stdout",
          "text": [
            "3.141595\n"
          ]
        },
        {
          "output_type": "execute_result",
          "data": {
            "text/plain": [
              "3.14"
            ]
          },
          "metadata": {},
          "execution_count": 13
        }
      ]
    },
    {
      "cell_type": "markdown",
      "source": [
        "## <font color = lightblue>3.4.Tratamento de Strings\n",
        "\n",
        "Existem inumeras funções para lidar com as strings afim de manipula-las, são algumas delas:\n",
        "\n",
        "**replace( )**.\n",
        "\n",
        "**startswith( )**.\n",
        "\n",
        "**endswith( )**.\n",
        "\n",
        "**count( )**.\n",
        "\n",
        "**capitalize( )**.\n",
        "\n",
        "**isdigit( )**.\n",
        "\n",
        "**isalnum( )**.\n",
        "\n",
        "**upper( )**.\n",
        "\n",
        "**lower( )**.\n",
        "\n",
        "**find( )**.\n",
        "\n",
        "**split( )**.\n",
        "\n",
        "**strip( )**.\n",
        "\n",
        "Cada uma dessas funções irão receber a devida explicação abaixo.\n"
      ],
      "metadata": {
        "id": "iOTny4sjJkk-"
      }
    },
    {
      "cell_type": "code",
      "source": [
        "# Armazenando a variável parâmetro.\n",
        "string_1 = \"hello human, the number pi is: 3,14\"\n",
        "print(string_1)"
      ],
      "metadata": {
        "colab": {
          "base_uri": "https://localhost:8080/"
        },
        "id": "V2XHuot7LS0J",
        "outputId": "c0a73d26-1da9-4b18-9747-58d9ffc59450"
      },
      "execution_count": null,
      "outputs": [
        {
          "output_type": "stream",
          "name": "stdout",
          "text": [
            "hello human, the number pi is: 3,14\n"
          ]
        }
      ]
    },
    {
      "cell_type": "code",
      "source": [
        "# A string indesejável será substituída por uma string desejável em outra vairável*.\n",
        "string_2 = string_1.replace(\"human\", \"world\")\n",
        "print(string_2)"
      ],
      "metadata": {
        "colab": {
          "base_uri": "https://localhost:8080/"
        },
        "id": "0TdX4YggMb0-",
        "outputId": "eed0a000-0a04-4a92-9c54-23e7fa3819d5"
      },
      "execution_count": null,
      "outputs": [
        {
          "output_type": "stream",
          "name": "stdout",
          "text": [
            "hello world, the number pi is: 3,14\n"
          ]
        }
      ]
    },
    {
      "cell_type": "code",
      "source": [
        "# Verificar se um string começa com um determinado caractére.\n",
        "string_1.startswith(\"hello\")"
      ],
      "metadata": {
        "colab": {
          "base_uri": "https://localhost:8080/"
        },
        "id": "4wirkx54Mpgv",
        "outputId": "653ac5e0-2f4d-43a1-e99d-454cd20dac3c"
      },
      "execution_count": null,
      "outputs": [
        {
          "output_type": "execute_result",
          "data": {
            "text/plain": [
              "True"
            ]
          },
          "metadata": {},
          "execution_count": 9
        }
      ]
    },
    {
      "cell_type": "code",
      "source": [
        "# Verificar se um string finaliza com um determinado caractére.\n",
        "string_1.endswith(\"3,14\")"
      ],
      "metadata": {
        "colab": {
          "base_uri": "https://localhost:8080/"
        },
        "id": "Emg4zqAvOt80",
        "outputId": "f8ba7b43-ed21-49e9-a862-a0dbf2b99a17"
      },
      "execution_count": null,
      "outputs": [
        {
          "output_type": "execute_result",
          "data": {
            "text/plain": [
              "True"
            ]
          },
          "metadata": {},
          "execution_count": 20
        }
      ]
    },
    {
      "cell_type": "code",
      "source": [
        "# Verificar quantas vezes um determinado caractére se repete em uma string.\n",
        "string_2.count(\"o\")"
      ],
      "metadata": {
        "colab": {
          "base_uri": "https://localhost:8080/"
        },
        "id": "7aWbRHGZO-Uj",
        "outputId": "9cc33f32-2908-4560-9877-266fa8f20d33"
      },
      "execution_count": null,
      "outputs": [
        {
          "output_type": "execute_result",
          "data": {
            "text/plain": [
              "2"
            ]
          },
          "metadata": {},
          "execution_count": 21
        }
      ]
    },
    {
      "cell_type": "code",
      "source": [
        "# Deixa em letra maiúscula a primeiro carctére da string.\n",
        "string_1.capitalize()"
      ],
      "metadata": {
        "colab": {
          "base_uri": "https://localhost:8080/",
          "height": 36
        },
        "id": "XswTUUmZRObV",
        "outputId": "9f818c16-eb5c-436b-f49a-369f3f784fb6"
      },
      "execution_count": null,
      "outputs": [
        {
          "output_type": "execute_result",
          "data": {
            "text/plain": [
              "'Hello human, the number pi is: 3,14'"
            ],
            "application/vnd.google.colaboratory.intrinsic+json": {
              "type": "string"
            }
          },
          "metadata": {},
          "execution_count": 22
        }
      ]
    },
    {
      "cell_type": "code",
      "source": [
        "# Verifica se uma string é alfanumérica (só possui letras e números).\n",
        "string_1.isalnum()"
      ],
      "metadata": {
        "colab": {
          "base_uri": "https://localhost:8080/"
        },
        "id": "_g4sYpItSKzh",
        "outputId": "9e3f5fd3-d26e-4cd3-951e-e53596f498be"
      },
      "execution_count": null,
      "outputs": [
        {
          "output_type": "execute_result",
          "data": {
            "text/plain": [
              "False"
            ]
          },
          "metadata": {},
          "execution_count": 23
        }
      ]
    },
    {
      "cell_type": "code",
      "source": [
        "# Deixa todos os elementos da string em maiúsculo.\n",
        "string_1.upper()"
      ],
      "metadata": {
        "colab": {
          "base_uri": "https://localhost:8080/",
          "height": 36
        },
        "id": "4OQ9Rn8GULvc",
        "outputId": "0f875376-e54d-4e7a-df18-e5bded4b6fb1"
      },
      "execution_count": null,
      "outputs": [
        {
          "output_type": "execute_result",
          "data": {
            "text/plain": [
              "'HELLO HUMAN, THE NUMBER PI IS: 3,14'"
            ],
            "application/vnd.google.colaboratory.intrinsic+json": {
              "type": "string"
            }
          },
          "metadata": {},
          "execution_count": 24
        }
      ]
    },
    {
      "cell_type": "code",
      "source": [
        "# Deixo todos os elementos da string em minúsculo.\n",
        "string_1.lower()"
      ],
      "metadata": {
        "colab": {
          "base_uri": "https://localhost:8080/",
          "height": 36
        },
        "id": "B0tVc-O5WVgb",
        "outputId": "c811e16e-29be-47ab-81a0-b4fd3293d2c6"
      },
      "execution_count": null,
      "outputs": [
        {
          "output_type": "execute_result",
          "data": {
            "text/plain": [
              "'hello human, the number pi is: 3,14'"
            ],
            "application/vnd.google.colaboratory.intrinsic+json": {
              "type": "string"
            }
          },
          "metadata": {},
          "execution_count": 25
        }
      ]
    },
    {
      "cell_type": "code",
      "source": [
        "# Encontra um carctére pela sua posição numérica.\n",
        "string_1.find(\"pi\")"
      ],
      "metadata": {
        "colab": {
          "base_uri": "https://localhost:8080/"
        },
        "id": "ld_f-jhPW7e2",
        "outputId": "c7c9b33e-5003-41fe-f01f-bb47a460f06e"
      },
      "execution_count": null,
      "outputs": [
        {
          "output_type": "execute_result",
          "data": {
            "text/plain": [
              "24"
            ]
          },
          "metadata": {},
          "execution_count": 26
        }
      ]
    },
    {
      "cell_type": "code",
      "source": [
        "# Remove espaços do início e do final de uma string.\n",
        "string_1.strip()"
      ],
      "metadata": {
        "colab": {
          "base_uri": "https://localhost:8080/",
          "height": 36
        },
        "id": "sXz7TExkXUDs",
        "outputId": "03e27e8d-e5cd-4068-9d28-4d55927314eb"
      },
      "execution_count": null,
      "outputs": [
        {
          "output_type": "execute_result",
          "data": {
            "text/plain": [
              "'hello human, the number pi is: 3,14'"
            ],
            "application/vnd.google.colaboratory.intrinsic+json": {
              "type": "string"
            }
          },
          "metadata": {},
          "execution_count": 27
        }
      ]
    },
    {
      "cell_type": "code",
      "source": [
        "# Transforma a string em uma lista.\n",
        "string_1.split(',')"
      ],
      "metadata": {
        "colab": {
          "base_uri": "https://localhost:8080/"
        },
        "id": "jeOrvTzwYAq-",
        "outputId": "f0bfebdd-aaf0-4907-a460-39bb4a373e56"
      },
      "execution_count": null,
      "outputs": [
        {
          "output_type": "execute_result",
          "data": {
            "text/plain": [
              "['hello human', ' the number pi is: 3', '14']"
            ]
          },
          "metadata": {},
          "execution_count": 28
        }
      ]
    },
    {
      "cell_type": "markdown",
      "source": [
        "<font color = lightblue> Comprimento de uma variável\n",
        "\n",
        "A função *len* lida com contagens. A função **len( )** conta a quantidade de elementos dentro de uma variável ou sentença."
      ],
      "metadata": {
        "id": "19J7JzIIhdWg"
      }
    },
    {
      "cell_type": "code",
      "source": [
        "Lista_1 = [1, 2, 3, 4, 5]\n",
        "Tupla_1 =  (1, 2, 3)\n",
        "Dicionário_1 = {\"a\" : 2, \"b\" : \"dois\"}\n",
        "String_3 = \"Hello World\"\n",
        "print(\"lista =\", len(Lista_1))\n",
        "print(\"tupla =\", len(Tupla_1))\n",
        "print(\"dicionário =\", len(Dicionário_1))\n",
        "print(\"string =\", len(String_3))"
      ],
      "metadata": {
        "colab": {
          "base_uri": "https://localhost:8080/"
        },
        "id": "M4aXLml8h8Ch",
        "outputId": "bce43d7a-a544-4f92-dd60-9f6a0fcf3304"
      },
      "execution_count": null,
      "outputs": [
        {
          "output_type": "stream",
          "name": "stdout",
          "text": [
            "lista = 5\n",
            "tupla = 3\n",
            "dicionário = 2\n",
            "string = 11\n"
          ]
        }
      ]
    },
    {
      "cell_type": "markdown",
      "source": [
        "##<font color = lightblue>3.4.Exercícios"
      ],
      "metadata": {
        "id": "99kQMGor6-wm"
      }
    },
    {
      "cell_type": "markdown",
      "source": [
        "<font color = yellow>  Exercício 1:\n",
        "\n",
        "Criando um *script* determine a área de um triângulo qualquer em metros quadrados sabendo sua base $b$ e sua altura $h$.\n",
        "\n",
        "Nota* A equação da área é dada por:\n",
        "\n",
        "$$A_t = \\frac{b\\cdot h}{2}$$"
      ],
      "metadata": {
        "id": "icX0vA-zO1R6"
      }
    },
    {
      "cell_type": "code",
      "source": [
        "base = float(input(\"Insira uma base metros quadrados: \" ))\n",
        "altura = float(input(\"Insira uma altura metros quadrados: \"))\n",
        "area_triangulo = str(base * altura / 2)\n",
        "print(\"A área é dada por: \" + area_triangulo + \" metros quadrados\")"
      ],
      "metadata": {
        "colab": {
          "base_uri": "https://localhost:8080/"
        },
        "id": "bpqzF4jSOz9K",
        "outputId": "2db8e1f1-b150-4151-b8b9-4c23c31d1345"
      },
      "execution_count": null,
      "outputs": [
        {
          "output_type": "stream",
          "name": "stdout",
          "text": [
            "Insira uma base metros quadrados: 5\n",
            "Insira uma altura metros quadrados: 2\n",
            "A área é dada por: 5.0 metros quadrados\n"
          ]
        }
      ]
    },
    {
      "cell_type": "markdown",
      "source": [
        "<font color = yellow> Exercício 2:\n",
        "\n",
        "Criando um *script*, determine a distância entre dois pontos quaisquer $P_1$ e $P_2$ definidos pelas coordenadas cartesianas $(x_1, y_1)$ e $(x_2, y_2)$ respectivamente.\n",
        "\n",
        "Nota* A equação da distância entre dois pontos é dada por:\n",
        "\n",
        "$$d = \\sqrt{(x_2 - x_1)^2 + (y_2 - y_1)^2}$$\n",
        "\n"
      ],
      "metadata": {
        "id": "h0mq0KUDfgkX"
      }
    },
    {
      "cell_type": "code",
      "source": [
        "import math\n",
        "ponto_x1 = float(input(\"Insira a coordenada x1 para o ponto 1: \"))\n",
        "ponto_y1 = float(input(\"Insira a coordenada y1 para o ponto 1: \"))\n",
        "ponto_x2 = float(input(\"Insira a coordenada x2 para o ponto 2: \"))\n",
        "ponto_y2 = float(input(\"Insira a coordenada y2 para o ponto 2: \"))\n",
        "distancia = math.sqrt((ponto_x2 - ponto_x1) ** 2 + (ponto_y2 - ponto_y1) ** 2)\n",
        "print(\"A distância entre o ponto P1 (\" + str(ponto_x1) + \", \" + str(ponto_y1) + \") e o ponto P2 (\" + str(ponto_x2) + \", \" + str(ponto_y2) + \") é: \" + str(distancia) +\". \")"
      ],
      "metadata": {
        "colab": {
          "base_uri": "https://localhost:8080/"
        },
        "id": "1BPdg390h7f5",
        "outputId": "5cf7d743-d7fc-4a2d-e36e-e3645d9c044b"
      },
      "execution_count": null,
      "outputs": [
        {
          "output_type": "stream",
          "name": "stdout",
          "text": [
            "Insira a coordenada x1 para o ponto 1: 3\n",
            "Insira a coordenada y1 para o ponto 1: -1\n",
            "Insira a coordenada x2 para o ponto 2: 3\n",
            "Insira a coordenada y2 para o ponto 2: 0\n",
            "A distância entre o ponto P1 (3.0, -1.0) e o ponto P2 (3.0, 0.0) é: 1.0. \n"
          ]
        }
      ]
    },
    {
      "cell_type": "markdown",
      "source": [
        "#<font color = lightblue>4.Condicionais If , Elif e Else\n",
        "\n",
        "Condições lógicas de suma importância para a robustez estrutural de um algoritmo.\n"
      ],
      "metadata": {
        "id": "-cGL8yhO57ec"
      }
    },
    {
      "cell_type": "markdown",
      "source": [
        "## <font color = lightblue>4.1.Condição If\n",
        "A instrução *if* em Python é usada para testar uma condição e executar um bloco de código se a condição for verdadeira. A sintaxe da instrução *if* é a seguinte:\n",
        "Se a condição for verdadeira, o bloco de código será executado. Se a condição for falsa, o bloco de código não será executado."
      ],
      "metadata": {
        "id": "6TYfcCs783LI"
      }
    },
    {
      "cell_type": "code",
      "source": [
        "# Condição se a pessoa for menor de idade ela poderá acessar um site.\n",
        "idade = int(input(\"Digite sua idade: \"))\n",
        "\n",
        "if idade >= 18:\n",
        "  print('Acesso válido')"
      ],
      "metadata": {
        "colab": {
          "base_uri": "https://localhost:8080/"
        },
        "id": "cTuJg5CV9EGZ",
        "outputId": "2c9339a4-e34a-42f2-d00b-867d8249c909"
      },
      "execution_count": null,
      "outputs": [
        {
          "output_type": "stream",
          "name": "stdout",
          "text": [
            "Digite sua idade: 21\n",
            "Acesso válido\n"
          ]
        }
      ]
    },
    {
      "cell_type": "markdown",
      "source": [
        "## <font color = lightblue>4.2.Condição Elif\n",
        "A instrução *elif* em Python é usada para testar uma condição adicional se a primeira condição for falsa. A sintaxe da instrução *elif* é a seguinte:\n",
        "Se a primeira condição for verdadeira, o bloco de código 1 será executado. Se a primeira condição for falsa e a segunda condição for verdadeira, o bloco de código 2 será executado. Se ambas as condições forem falsas, nenhum bloco de código será executado."
      ],
      "metadata": {
        "id": "j5yZhb2K-R13"
      }
    },
    {
      "cell_type": "code",
      "source": [
        "# Condição se a pessoa for menor de idade ela poderá acessar um site.\n",
        "idade = int(input(\"Digite sua idade: \"))\n",
        "\n",
        "if idade >= 18:\n",
        "  print('Acesso válido')\n",
        "elif idade < 18 and idade >= 14:\n",
        "  print('Acesso sob análise')"
      ],
      "metadata": {
        "colab": {
          "base_uri": "https://localhost:8080/"
        },
        "id": "bRu82Hsl-L_E",
        "outputId": "53bd77ae-165e-4966-a0ac-c16d8cd36420"
      },
      "execution_count": null,
      "outputs": [
        {
          "output_type": "stream",
          "name": "stdout",
          "text": [
            "Digite sua idade: 17\n",
            "Acesso sob análise\n"
          ]
        }
      ]
    },
    {
      "cell_type": "markdown",
      "source": [
        "##<font color = lightblue>4.3.Condição Else\n",
        "A instrução *else* em Python é usada para executar um bloco de código se todas as outras condições forem falsas. A sintaxe da instrução *else* é a seguinte:\n",
        "Se a primeira condição for verdadeira, o bloco de código 1 será executado. Se a primeira condição for falsa e a segunda condição for verdadeira, o bloco de código 2 será executado. Se ambas as condições forem falsas, o bloco de código 3 será executado."
      ],
      "metadata": {
        "id": "JkoADZcy_apZ"
      }
    },
    {
      "cell_type": "code",
      "source": [
        "# Condição se a pessoa for menor de idade ela poderá acessar um site.\n",
        "idade = int(input(\"Digite sua idade: \"))\n",
        "\n",
        "if idade >= 18:\n",
        "  print('Acesso válido')\n",
        "elif idade < 18 and idade >= 14:\n",
        "  print('Acesso sob análise')\n",
        "else:\n",
        "  print('Acesso negado')"
      ],
      "metadata": {
        "colab": {
          "base_uri": "https://localhost:8080/"
        },
        "id": "K3sqkBDz_nZd",
        "outputId": "505b7109-3693-4e24-ec72-79835a58f256"
      },
      "execution_count": null,
      "outputs": [
        {
          "output_type": "stream",
          "name": "stdout",
          "text": [
            "Digite sua idade: 11\n",
            "Acesso negado\n"
          ]
        }
      ]
    },
    {
      "cell_type": "markdown",
      "source": [
        "##<font color = lightblue>4.3.Exerícios\n"
      ],
      "metadata": {
        "id": "jptWi_A8Z-Vt"
      }
    },
    {
      "cell_type": "markdown",
      "source": [
        "<font color = yellow>  Exercícios\n",
        "\n",
        "Triângulos são classificados em equiláteros, isósceles ou escalenos. Os triângulos equiláteros possuem os três lados iguais. Os isósceles possuem apenas dois lados iguais e os escalenos têm os três lados distintos. Crie um código que leia os lados (valores numéricos somente) de um triângulo qualquer e o classifique."
      ],
      "metadata": {
        "id": "iezcxNBea75V"
      }
    },
    {
      "cell_type": "code",
      "source": [
        "print('Informes os 3 lados do triângulo:')\n",
        "a = float(input('Lado 1: '))\n",
        "b = float(input('Lado 2: '))\n",
        "c = float(input('Lado 3: '))\n",
        "if (a > b + c) or (b > a + c) or (c > a + b):\n",
        "    print('Triângulo inválido')\n",
        "else:\n",
        "    if (a == b) and (b == c):\n",
        "        print('Triângulo equilátero')\n",
        "    elif (a == b) or (b == c) or (a == c):\n",
        "        print('Triângulo isósceles')\n",
        "    else:\n",
        "        print('Triângulo escaleno')"
      ],
      "metadata": {
        "colab": {
          "base_uri": "https://localhost:8080/"
        },
        "id": "_dvmRPuEaE5v",
        "outputId": "868f1eab-dbb3-4f56-e183-dd206664d6a7"
      },
      "execution_count": null,
      "outputs": [
        {
          "output_type": "stream",
          "name": "stdout",
          "text": [
            "Informes os 3 lados do triângulo:\n",
            "Lado 1: 4\n",
            "Lado 2: 4\n",
            "Lado 3: 2\n",
            "Triângulo isósceles\n"
          ]
        }
      ]
    },
    {
      "cell_type": "markdown",
      "source": [
        "\n",
        "# <font color = lightblue>5.Listas, Tupulas e Dicionários\n",
        "\n",
        "Listas, Tupulas e Dicionários são usadas para classificarem tipos de dados. Existem três tipos de coleção de dados, são eles:\n",
        "\n",
        "Listas; atribuidas por colchetes [ ].\n",
        "\n",
        "Tuplas; atribuidas por parêntesis ( ).\n",
        "\n",
        "Dicionários; atribuidos por chaves { }.\n",
        "\n",
        "Observação: qualquer tipo de valor (numéricos e  textuais) pode ser atribuído para os tipos de dados."
      ],
      "metadata": {
        "id": "Tyf8H7QgUj7n"
      }
    },
    {
      "cell_type": "markdown",
      "source": [
        "## <font color = lightblue>5.1.Listas\n",
        "Listas são coleções de dados do  tipo primitivo (int, float, string), composto (uma lista sendo um elemento de outra lista) ou misto (uma variedade de tipo de elementos em uma única lista). É importante saber que cada elemento que compõe uma lista ocupa uma posição (*índice*), separados por uma vírgula, que varia de $0$ a $n$ sendo $n\\in\\mathbb{N}$."
      ],
      "metadata": {
        "id": "iaistdg-LoaI"
      }
    },
    {
      "cell_type": "code",
      "source": [
        "l1 = [1, 2, 3]\n",
        "l2 = [\"Hello\", \"World\", \"!\"]\n",
        "l3 = [l2, l1]\n",
        "print(l1) # Lista composta por dados numéricos.\n",
        "print(l2) # Lista composta por dados textuais.\n",
        "print(l3) # Lista composta por por listas e dados mistos."
      ],
      "metadata": {
        "colab": {
          "base_uri": "https://localhost:8080/"
        },
        "id": "PMD3CR4sLm57",
        "outputId": "70eeba99-aa84-4bd3-9dff-9b933dded64e"
      },
      "execution_count": null,
      "outputs": [
        {
          "output_type": "stream",
          "name": "stdout",
          "text": [
            "[1, 2, 3]\n",
            "['Hello', 'World', '!']\n",
            "[['Hello', 'World', '!'], [1, 2, 3]]\n"
          ]
        }
      ]
    },
    {
      "cell_type": "markdown",
      "source": [
        "### <font color = lightblue>5.1.1.Objetos Iteráveis e Contagem de Elementos\n",
        "\n",
        "Qualquer string usando a função *list()*, pode ser convertida em uma lista de sucessivos inteiros, e portanto, nesse sentido é um objeto iterável.\n",
        "Pode se contar a quantidade de elementos de uma lista através de uma função já conhecida, a função *len()*.\n",
        "Outra forma útil de criar listas numéricas é pela função *range( )*."
      ],
      "metadata": {
        "id": "Rhj7CtS8-clo"
      }
    },
    {
      "cell_type": "code",
      "source": [
        "l4 = \"LISTADEELEMENTOS\"\n",
        "print(list(l4)) # Transformando string em lista.\n",
        "print(len(l4)) # Contagem de elementos.\n",
        "print(list(range(1,21,3))) # Criando uma sequência numérica de 0 até 21 na razão 3."
      ],
      "metadata": {
        "colab": {
          "base_uri": "https://localhost:8080/"
        },
        "id": "n2B1aDWz_v--",
        "outputId": "45c5861e-52f2-4a33-f29f-300b61ee0d33"
      },
      "execution_count": null,
      "outputs": [
        {
          "output_type": "stream",
          "name": "stdout",
          "text": [
            "['L', 'I', 'S', 'T', 'A', 'D', 'E', 'E', 'L', 'E', 'M', 'E', 'N', 'T', 'O', 'S']\n",
            "16\n",
            "[1, 4, 7, 10, 13, 16, 19]\n"
          ]
        }
      ]
    },
    {
      "cell_type": "markdown",
      "source": [
        "### <font color = lightblue>5.1.2.Operando Listas\n",
        "\n",
        "Lembre de que uma lista em tese é interpretada como uma string, portanto sua operação trata-se de uma concatenação. Para somar os elementos deve-se usar a função *sum( )*.\n",
        "\n",
        "\n",
        "\n",
        "\n"
      ],
      "metadata": {
        "id": "KWmLuRXFKRhH"
      }
    },
    {
      "cell_type": "code",
      "source": [
        "ls = l1 + l2\n",
        "print(ls) # Somando listas* (concatenação).\n",
        "print(l1*4) # Repetição.\n",
        "print(str(sum(l1))) # Lembrando que para somar elementos* de uma lista deve ser apenas numeros."
      ],
      "metadata": {
        "colab": {
          "base_uri": "https://localhost:8080/"
        },
        "id": "aPNq6OjPLl_m",
        "outputId": "19c8c7d6-1605-4ea6-c998-a43bf3f0233f"
      },
      "execution_count": null,
      "outputs": [
        {
          "output_type": "stream",
          "name": "stdout",
          "text": [
            "[1, 2, 3, 'Hello', 'World', '!']\n",
            "[1, 2, 3, 1, 2, 3, 1, 2, 3, 1, 2, 3]\n",
            "6\n"
          ]
        }
      ]
    },
    {
      "cell_type": "markdown",
      "source": [
        "### <font color = lightblue>5.1.3 Acessando Elementos de uma lista\n",
        "Para acessar os elementos de uma lista usamos [ ], sinalizando elemento de interesse. lembrando que o primeiro índice começa em $0$."
      ],
      "metadata": {
        "id": "BV_YZ7SxVDNY"
      }
    },
    {
      "cell_type": "code",
      "source": [
        "l4 = ['Hello', 'World', '!', 1, 2, 3]\n",
        "print(l4[0])\n",
        "print(l4[1])\n",
        "print(l4[4])\n",
        "print(l4[-1])\n",
        "print(l4[-3])\n",
        "print(l4[0:4])\n",
        "print(l4[-1:3])\n",
        "print(l4[0:])\n",
        "print(l4[-4:])"
      ],
      "metadata": {
        "colab": {
          "base_uri": "https://localhost:8080/"
        },
        "id": "dvpmdDTCYB2A",
        "outputId": "fa39f4d4-dec6-47ed-a48b-5326371a247d"
      },
      "execution_count": null,
      "outputs": [
        {
          "output_type": "stream",
          "name": "stdout",
          "text": [
            "Hello\n",
            "World\n",
            "2\n",
            "3\n",
            "1\n",
            "['Hello', 'World', '!', 1]\n",
            "[]\n",
            "['Hello', 'World', '!', 1, 2, 3]\n",
            "['!', 1, 2, 3]\n"
          ]
        }
      ]
    },
    {
      "cell_type": "markdown",
      "source": [
        "Fatiamento: o python vê as strings como listas, e por tanto, é possível opera-las como tal, ditanto cada elemento de uma string como um elemento de uma lista. seja uma string armazenada em uma variável segue-se: *variável[x1: x2]*, para *x1* e *x2* posições iniciais e finais respectivamente.\n"
      ],
      "metadata": {
        "id": "yZTVTDSnmn1Y"
      }
    },
    {
      "cell_type": "code",
      "source": [
        "pi = \"3.141595\"\n",
        "pi = pi[0:4]\n",
        "pi1 = float(pi)\n",
        "print(pi)\n",
        "type(pi1)\n"
      ],
      "metadata": {
        "colab": {
          "base_uri": "https://localhost:8080/"
        },
        "id": "BnxuY5nroMn2",
        "outputId": "1cbd351d-1884-4888-f964-bf9f20722b68"
      },
      "execution_count": null,
      "outputs": [
        {
          "output_type": "stream",
          "name": "stdout",
          "text": [
            "3.14\n"
          ]
        },
        {
          "output_type": "execute_result",
          "data": {
            "text/plain": [
              "float"
            ]
          },
          "metadata": {},
          "execution_count": 41
        }
      ]
    },
    {
      "cell_type": "markdown",
      "source": [
        "Podemos acessar valores de uma lista como por exemplo: máximo, mínimo, indexação e elementos que se repete."
      ],
      "metadata": {
        "id": "VkLQff2qQFuG"
      }
    },
    {
      "cell_type": "code",
      "source": [
        "print(max(l1)) # Valor máximo, função válida apenas para listas numéricas.\n",
        "print(min(l1)) # Valor mínimo, função válida apenas para listas numéricas.\n",
        "print(ls.index(3)) # Posição do elemento procurado na lista.\n",
        "print(ls.count(1)) # Quantidade de repetição do elemento buscado."
      ],
      "metadata": {
        "colab": {
          "base_uri": "https://localhost:8080/"
        },
        "id": "nr6RkjUaQEB5",
        "outputId": "16f9e00d-a3e0-431d-9e7d-f74ac7e7fe90"
      },
      "execution_count": null,
      "outputs": [
        {
          "output_type": "stream",
          "name": "stdout",
          "text": [
            "3\n",
            "1\n",
            "2\n",
            "1\n"
          ]
        }
      ]
    },
    {
      "cell_type": "markdown",
      "source": [
        "### <font color = lightblue>5.1.5. Adicionando e Removendo Elementos de uma Lista\n",
        "\n",
        "Pode-se adicionar e remover elementos de uma lista pelas funções *append( )*, *remove( )*, *pop( )*, *extend( )*, *del* e *clear( )*."
      ],
      "metadata": {
        "id": "G1ErUIUPczeb"
      }
    },
    {
      "cell_type": "code",
      "source": [
        "print(l1)\n",
        "l1.append(5) # Adicionando elemento.\n",
        "print(l1)\n",
        "l1.remove(1) # Removendo elemento discriminado.\n",
        "print(l1)\n",
        "l1.pop(2) # Removendo pela posição do elemento.\n",
        "print(l1)\n",
        "l1.extend([1]) # Adicionando um elemento, note que para adicionar um inteiro deve se criar uma lista, já que tal é uma string.\n",
        "print(l1)\n",
        "del l1[0] # Apagando um elemento pelo seu índice.\n",
        "print(l1)\n",
        "l1.clear() # Deletando todos os elemtentos da lista.\n",
        "print(l1)"
      ],
      "metadata": {
        "colab": {
          "base_uri": "https://localhost:8080/"
        },
        "id": "lQhBP-4YevCD",
        "outputId": "09aa593d-8da9-4b6a-e9af-b2d21b6f22b9"
      },
      "execution_count": null,
      "outputs": [
        {
          "output_type": "stream",
          "name": "stdout",
          "text": [
            "[1, 2, 3]\n",
            "[1, 2, 3, 5]\n",
            "[2, 3, 5]\n",
            "[2, 3]\n",
            "[2, 3, 1]\n",
            "[3, 1]\n",
            "[]\n"
          ]
        }
      ]
    },
    {
      "cell_type": "markdown",
      "source": [
        "### <font color = lightblue>5.1.4. Organizando Listas\n",
        "\n",
        "Listas podem ser organizadas pela função sort.\n",
        "\n"
      ],
      "metadata": {
        "id": "v6lShpHrVQtT"
      }
    },
    {
      "cell_type": "code",
      "source": [
        "print(l1) # Print antecipado.\n",
        "print(l1.sort(reverse = True)) # Lista reversa.\n",
        "print(l1) # Print antecipado.\n",
        "print(l1.sort(reverse = False)) # Lista crescente."
      ],
      "metadata": {
        "colab": {
          "base_uri": "https://localhost:8080/"
        },
        "id": "e-fJlEi_W-2t",
        "outputId": "7d54437a-9f5e-4530-d4af-3fbde59b21bd"
      },
      "execution_count": null,
      "outputs": [
        {
          "output_type": "stream",
          "name": "stdout",
          "text": [
            "[]\n",
            "None\n",
            "[]\n",
            "None\n"
          ]
        }
      ]
    },
    {
      "cell_type": "markdown",
      "source": [
        "### <font color = lightblue>5.1.6. Duplicando Listas\n",
        "A duplicata de uma lista pode ser feita pela função *copy( )*.Caso simplismente atribuir uma variável para outra variável o valor armazenado será mutável, por isso a importância da função copy, pois armazena a mesma informação de uma variável para outra preservando a original, mesmo alterando a cópia."
      ],
      "metadata": {
        "id": "sfpKLKrYRCD4"
      }
    },
    {
      "cell_type": "code",
      "source": [
        "print(l1)\n",
        "l5 = l1 # Alerando a cópia irá modificar a lista original.\n",
        "print(l5)\n",
        "l5[0] = (\"Mutável\")\n",
        "print(l1)\n",
        "print(l5)\n",
        "l5 = l1.copy() # Fazendo uma cópia.\n",
        "print(l1)\n",
        "print(l5)\n",
        "l5[0] = (\"n + 1\") # Alterando o valor da cópia e preservando o original.\n",
        "print(l1)\n",
        "print(l5)\n"
      ],
      "metadata": {
        "colab": {
          "base_uri": "https://localhost:8080/"
        },
        "id": "5IMDH7RTTX3L",
        "outputId": "eaee9f8b-4bb7-4152-b39c-997973c46a69"
      },
      "execution_count": null,
      "outputs": [
        {
          "output_type": "stream",
          "name": "stdout",
          "text": [
            "[1, 2, 3]\n",
            "[1, 2, 3]\n",
            "['Mutável', 2, 3]\n",
            "['Mutável', 2, 3]\n",
            "['Mutável', 2, 3]\n",
            "['Mutável', 2, 3]\n",
            "['Mutável', 2, 3]\n",
            "['n + 1', 2, 3]\n"
          ]
        }
      ]
    },
    {
      "cell_type": "markdown",
      "source": [
        "## <font color = lightblue>5.2.Tuplas"
      ],
      "metadata": {
        "id": "l2OCiLjvLxDe"
      }
    },
    {
      "cell_type": "code",
      "source": [
        "# Os valores de saída são inalteráveis.\n",
        "Tup = (6, 7.1, \"Text_2\")\n",
        "print(Tup)"
      ],
      "metadata": {
        "colab": {
          "base_uri": "https://localhost:8080/"
        },
        "id": "Y5KF99z0Zpp1",
        "outputId": "d96d2248-9132-4f1a-bdfb-868253124d58"
      },
      "execution_count": null,
      "outputs": [
        {
          "output_type": "stream",
          "name": "stdout",
          "text": [
            "(6, 7.1, 'Text_2')\n"
          ]
        }
      ]
    },
    {
      "cell_type": "markdown",
      "source": [
        "## <font color = lightblue> 5.3.Dicionários"
      ],
      "metadata": {
        "id": "-t4-vIzoL-8y"
      }
    },
    {
      "cell_type": "code",
      "source": [
        "# Os valores de saída sempre são strings.\n",
        "# Os dicionários sāo construídos da seguinte forma:\n",
        "# > Os valores são atribuidos como strings.\n",
        "# > Separados por dois pontos (:).\n",
        "# > Quebrados por vírgula(,).\n",
        "dicionario = {\n",
        "    \"index\" : \"random\",\n",
        "    \"id\" : \"var\",\n",
        "    \"nome\" : \"Euler\",\n",
        "    \"lista\" : l1,\n",
        "    \"tupla\" : Tup,\n",
        "}\n",
        "print(dicionario)"
      ],
      "metadata": {
        "colab": {
          "base_uri": "https://localhost:8080/"
        },
        "id": "bRVFqWRiVoER",
        "outputId": "2184d2d7-5187-4037-d6dd-c57d9643fc6d"
      },
      "execution_count": null,
      "outputs": [
        {
          "output_type": "stream",
          "name": "stdout",
          "text": [
            "{'index': 'random', 'id': 'var', 'nome': 'Euler', 'lista': ['Mutável', 2, 3], 'tupla': (6, 7.1, 'Text_2')}\n"
          ]
        }
      ]
    },
    {
      "cell_type": "markdown",
      "source": [
        "## <font color = lightblue> 5.4.Exercícios\n"
      ],
      "metadata": {
        "id": "3SQPS4RbK78Q"
      }
    },
    {
      "cell_type": "markdown",
      "source": [
        "<font color = yellow>  Exercício 1:\n",
        "\n",
        "Criando um *script* com cinco valores de entrada determine o Desvio Médio Absoluto.\n",
        "\n",
        " Lembre que o Desvio Médio Absoluto é soma do módulo dos desvios em torno da média, e portanto, mede a variabilidade da amostra.  \n",
        "\n",
        "\n",
        " Nota* A equação do DM é dada por:\n",
        "\n",
        " $$D_m =\\sum_{i=1}^{n}\\frac{\\vert x_i-\\overline{x}\\vert}{n}$$\n"
      ],
      "metadata": {
        "id": "2m-0X9VEMblR"
      }
    },
    {
      "cell_type": "code",
      "source": [
        "a = float(input(\"Digite o primeiro valor \"))\n",
        "b = float(input(\"Digite o segundo valor \"))\n",
        "c = float(input(\"Digite o terceiro valor \"))\n",
        "d = float(input(\"Digite o quarto valor \"))\n",
        "e = float(input(\"Digite o quinto valor \"))\n",
        "\n",
        "Valor_dm = [a, b, c, d, e]\n",
        "\n",
        "Media_dm = sum(Valor_dm)/5\n",
        "\n",
        "Vari_dm = []\n",
        "\n",
        "for i in Valor_dm:\n",
        "  n = abs(i - (Media_dm))\n",
        "  Vari_dm.append(n)\n",
        "\n",
        "DM = round((sum(Vari_dm)/5),2)\n",
        "\n",
        "print(\"O desvio médio é: \", DM)\n"
      ],
      "metadata": {
        "colab": {
          "base_uri": "https://localhost:8080/"
        },
        "id": "grNS3_wzLHHQ",
        "outputId": "81e74e40-4e63-4342-91e4-66d946955f37"
      },
      "execution_count": null,
      "outputs": [
        {
          "output_type": "stream",
          "name": "stdout",
          "text": [
            "Digite o primeiro valor 3.14\n",
            "Digite o segundo valor 2.7\n",
            "Digite o terceiro valor 123.321\n",
            "Digite o quarto valor 666.777\n",
            "Digite o quinto valor 13 \n",
            "O desvio médio é:  202.0\n"
          ]
        }
      ]
    },
    {
      "cell_type": "markdown",
      "source": [
        "<font color = yellow>  Exercício 1:\n",
        "\n",
        "\n",
        "Criando um script com cinco valores de entrada determine o Desvio Padrão Médio.\n",
        "Lembre-se, o desvio padrão indica o quanto um conjunto de dados é uniforme. Quanto mais próximo de 0 for o desvio padrão, mais homogêneo são os dados.\n",
        "\n",
        "Nota* A equação do DP para uma população é dada por:\n",
        "\n",
        "$$\\sigma = \\sqrt{\\frac{\\sum_{i=1}^{n}(x_i-\\mu)^2}{N}}$$"
      ],
      "metadata": {
        "id": "-9LXn531ZrkX"
      }
    },
    {
      "cell_type": "code",
      "source": [
        "import math\n",
        "\n",
        "a = float(input(\"Digite o primeiro valor \"))\n",
        "b = float(input(\"Digite o segundo valor \"))\n",
        "c = float(input(\"Digite o terceiro valor \"))\n",
        "d = float(input(\"Digite o quarto valor \"))\n",
        "e = float(input(\"Digite o quinto valor \"))\n",
        "\n",
        "Valor_dm = [a, b, c, d, e]\n",
        "\n",
        "Media_dp = sum(Valor_dm)/5\n",
        "\n",
        "Vari_dp = []\n",
        "\n",
        "for i in Valor_dm:\n",
        "  n = ((i - (Media_dp))**2)/5\n",
        "  Vari_dp.append(n)\n",
        "\n",
        "DP = round(math.sqrt(sum(Vari_dp)),2)\n",
        "\n",
        "print(\"O desvio padrão médio é: \", DP)"
      ],
      "metadata": {
        "id": "r4xMCUr7ZWA8",
        "colab": {
          "base_uri": "https://localhost:8080/"
        },
        "outputId": "e4698ba5-836b-433b-d6c1-16a8b101e8d0"
      },
      "execution_count": null,
      "outputs": [
        {
          "output_type": "stream",
          "name": "stdout",
          "text": [
            "Digite o primeiro valor 1\n",
            "Digite o segundo valor 2\n",
            "Digite o terceiro valor 3\n",
            "Digite o quarto valor 4\n",
            "Digite o quinto valor 5\n",
            "O desvio padrão médio é:  1.41\n"
          ]
        }
      ]
    },
    {
      "cell_type": "markdown",
      "source": [
        "# <font color = lightblue> 6.Loops For e While\n",
        "\n",
        "Loops são ferramentas de extrema utilidade para algoritmos que necessitam trabalhar de forma cíclica com suas variáveis. Há dois tipos de loops são eles: *For* e *While*, cada um com suas particularidades."
      ],
      "metadata": {
        "id": "dtWQOqPx__Nh"
      }
    },
    {
      "cell_type": "markdown",
      "source": [
        "## <font color = lightblue>6.1.Loop For\n",
        " O loop **For** tem por objetivo iterar sobre strings, listas, tuplas e dicionários, com uma certa especificação para percorrer seu laço, sendo assim, precisa de uma condição pra interromper o laço para que não se perpetue."
      ],
      "metadata": {
        "id": "jRl-GE8JGzaL"
      }
    },
    {
      "cell_type": "code",
      "source": [
        "for Tabuada_5 in range(1, 11): # Especificação/condição para iterar no range (lista).\n",
        " print(Tabuada_5 * 5) # Operando sobre a sequência."
      ],
      "metadata": {
        "colab": {
          "base_uri": "https://localhost:8080/"
        },
        "id": "cYTX8DA1Gwi2",
        "outputId": "1f680dd2-4fbf-48ec-8adf-cc2b15384a3b"
      },
      "execution_count": null,
      "outputs": [
        {
          "output_type": "stream",
          "name": "stdout",
          "text": [
            "5\n",
            "10\n",
            "15\n",
            "20\n",
            "25\n",
            "30\n",
            "35\n",
            "40\n",
            "45\n",
            "50\n"
          ]
        }
      ]
    },
    {
      "cell_type": "markdown",
      "source": [
        "### <font color = lightblue>6.1.1 Loop For em Listas\n",
        "Podemos usar um For dentro de uma lista para se criar uma outra lista desejada."
      ],
      "metadata": {
        "id": "3bcRTq_5kpZR"
      }
    },
    {
      "cell_type": "code",
      "source": [
        "# Criando a tabuada do 5 dentro de uma lista usando o For.\n",
        "List_For = [ Tabuada_5 * 5 for Tabuada_5 in range(1, 11)]\n",
        "# A variável e definida dentro da lista.\n",
        "print(List_For)"
      ],
      "metadata": {
        "colab": {
          "base_uri": "https://localhost:8080/"
        },
        "id": "T-wcRDiakbEe",
        "outputId": "02a67ada-04dd-4a34-b0dd-ee3e3c9b47d6"
      },
      "execution_count": null,
      "outputs": [
        {
          "output_type": "stream",
          "name": "stdout",
          "text": [
            "[5, 10, 15, 20, 25, 30, 35, 40, 45, 50]\n"
          ]
        }
      ]
    },
    {
      "cell_type": "markdown",
      "source": [
        "## <font color = lightblue>6.2.Loop While\n",
        "O loop **While** tem por objetivo executar em laços uma tarefa até que atinga uma condição verdadeira para sua parada. Caso contrário, ele se reperirá infinitamente.\n",
        "\n",
        "```\n",
        "# Isto está formatado como código\n",
        "```\n",
        "\n"
      ],
      "metadata": {
        "id": "XG26WtJEpHXU"
      }
    },
    {
      "cell_type": "code",
      "source": [
        "# Criando a tabuada do 5 usando o While.\n",
        "Contador = 0 # Usando um contador para interar de 0 a 10.\n",
        "while Contador <= 9:\n",
        "  Contador = Contador + 1\n",
        "  Tab5 = Contador * 5\n",
        "  print(Tab5)\n"
      ],
      "metadata": {
        "colab": {
          "base_uri": "https://localhost:8080/"
        },
        "id": "hkKccIDXpszw",
        "outputId": "d80257f5-1825-4fa0-cdf3-e2eec2866b05"
      },
      "execution_count": null,
      "outputs": [
        {
          "output_type": "stream",
          "name": "stdout",
          "text": [
            "5\n",
            "10\n",
            "15\n",
            "20\n",
            "25\n",
            "30\n",
            "35\n",
            "40\n",
            "45\n",
            "50\n"
          ]
        }
      ]
    },
    {
      "cell_type": "markdown",
      "source": [
        "## <font color = lightblue>6.3.Estrutura Break e Continue\n",
        "\n",
        "Muita das vezes será necessário parar um laço abruptamente, nesse caso, utilize a estrutura **break**. Caso seja necessário ignorar etapas no loop utiliza a estrutura **continue**."
      ],
      "metadata": {
        "id": "d6uLrPF-tO5S"
      }
    },
    {
      "cell_type": "code",
      "source": [
        "# Parando o código em uma detereminada etapa do laço.\n",
        "for Tabuada_5 in range(1, 11):\n",
        "  if Tabuada_5 == 5:\n",
        "    break\n",
        "  print(Tabuada_5 * 5)"
      ],
      "metadata": {
        "colab": {
          "base_uri": "https://localhost:8080/"
        },
        "id": "kYWgBKWHtNXF",
        "outputId": "e642be8d-0c98-4249-b2fe-7e22023e354b"
      },
      "execution_count": null,
      "outputs": [
        {
          "output_type": "stream",
          "name": "stdout",
          "text": [
            "5\n",
            "10\n",
            "15\n",
            "20\n"
          ]
        }
      ]
    },
    {
      "cell_type": "code",
      "source": [
        "# Ignorando uma instrução dentro de um laço.\n",
        "for Tabuada_5 in range(1, 11):\n",
        "  if Tabuada_5 == 5:\n",
        "     continue\n",
        "     print(\"ignore\")\n",
        "  print(Tabuada_5 * 5)"
      ],
      "metadata": {
        "colab": {
          "base_uri": "https://localhost:8080/"
        },
        "id": "MuJOXo3-ujwe",
        "outputId": "6e3d06e6-a137-4b78-d9cb-0e9a5c14f559"
      },
      "execution_count": null,
      "outputs": [
        {
          "output_type": "stream",
          "name": "stdout",
          "text": [
            "5\n",
            "10\n",
            "15\n",
            "20\n",
            "30\n",
            "35\n",
            "40\n",
            "45\n",
            "50\n"
          ]
        }
      ]
    },
    {
      "cell_type": "markdown",
      "source": [
        "# <font color = lightblue> 7.Importanto Pacotes\n",
        "Para lidar com dados, muitas das ferramentas excedem os recursos básicos do Python, e portanto, a necessidade de irportar pacotes para suprir tal limitação.\n"
      ],
      "metadata": {
        "id": "aQ9NfZF6eHrD"
      }
    },
    {
      "cell_type": "markdown",
      "source": [
        "## <font color = lightblue> 7.1.Import Datetime\n",
        "\n",
        "Pacote responsável por criação e manipulação de datas. Usa-se *import* > *datetime*."
      ],
      "metadata": {
        "id": "OqhQ6wdRzoao"
      }
    },
    {
      "cell_type": "code",
      "source": [
        "# Importando o pacote de data.\n",
        "import datetime\n",
        "Hoje = datetime.date.today()\n",
        "\n",
        "# Tipo de dado.\n",
        "print(type(Hoje))\n",
        "\n",
        "# Imprimindo o dia de hoje.\n",
        "print(Hoje)\n",
        "\n",
        "# Imprimindo a hora de hoje.\n",
        "Hora = datetime.datetime.today().time()\n",
        "print(Hora)\n",
        "\n",
        " # Criando uma data.\n",
        "Data_hoje = datetime.date(2020, 12, 15)\n",
        "Dia = Data_hoje.day\n",
        "Mês = Data_hoje.month\n",
        "Ano = Data_hoje.year\n",
        "print(f\"Hoje é dia  {Dia}, do mês {Mês}, de {Ano}\")\n",
        "\n",
        "# Intervalo de tempo.\n",
        "Data_dif = Hoje - Data_hoje\n",
        "print(Data_dif)\n",
        "\n",
        "# Formatando data.\n",
        "Data_form = Hoje.strftime(\"%d/%m/%y\")\n",
        "print(Data_form)\n",
        "\n",
        "# Operação com datas.\n",
        "print( f'Somando 60 dias, {Hoje + datetime.timedelta(days = 60)}' )\n",
        "print( f'Diminuindo 60 dias, {Hoje - datetime.timedelta(days = 60)}' )"
      ],
      "metadata": {
        "id": "uopvmSiwmnO4",
        "colab": {
          "base_uri": "https://localhost:8080/"
        },
        "outputId": "da30062e-dfab-471e-a0a7-1dc40e71650d"
      },
      "execution_count": null,
      "outputs": [
        {
          "output_type": "stream",
          "name": "stdout",
          "text": [
            "<class 'datetime.date'>\n",
            "2023-12-15\n",
            "14:08:06.181586\n",
            "Hoje é dia  15, do mês 12, de 2020\n",
            "1095 days, 0:00:00\n",
            "15/12/23\n",
            "Somando 60 dias, 2024-02-13\n",
            "Diminuindo 60 dias, 2023-10-16\n"
          ]
        }
      ]
    },
    {
      "cell_type": "markdown",
      "source": [
        "## <font color = lightblue> 7.2.Import Time\n",
        "Pacote responsável por criação e manipulação de horas. Usa-se *import* > *time*."
      ],
      "metadata": {
        "id": "UQnshbaM3Gy8"
      }
    },
    {
      "cell_type": "code",
      "source": [
        "# Importando time.\n",
        "import time\n",
        "\n",
        "# Print temporizado.\n",
        "print(\"Mensagem instântanea\")\n",
        "time.sleep(3)\n",
        "print(\"Mensagem com retardo de 3 segundos\")\n",
        "\n",
        "# Hora atual.\n",
        "Hora_ago = time.localtime()\n",
        "print(Hora_ago)\n",
        "\n",
        "# Tipo de dado.\n",
        "print(type(Hora_ago))\n",
        "\n",
        "# Formatando hora.\n",
        "print( time.strftime('%m/%d/%Y, %H:%M:%S', Hora_ago ))\n",
        "\n",
        "# Convertendo string para hora.\n",
        "Hora_str = '23 March, 2021'\n",
        "Hora_conv = time.strptime(Hora_str, '%d %B, %Y')\n",
        "print(Hora_conv)\n",
        "print( time.strftime('%m/%d/%Y, %H:%M:%S', Hora_conv ))"
      ],
      "metadata": {
        "colab": {
          "base_uri": "https://localhost:8080/"
        },
        "id": "vCqBmzFp3DJg",
        "outputId": "0dff237d-04a0-4168-a34a-2f98038356e1"
      },
      "execution_count": null,
      "outputs": [
        {
          "output_type": "stream",
          "name": "stdout",
          "text": [
            "Mensagem instântanea\n",
            "Mensagem com retardo de 3 segundos\n",
            "time.struct_time(tm_year=2023, tm_mon=12, tm_mday=15, tm_hour=14, tm_min=45, tm_sec=8, tm_wday=4, tm_yday=349, tm_isdst=0)\n",
            "<class 'time.struct_time'>\n",
            "12/15/2023, 14:45:08\n",
            "time.struct_time(tm_year=2021, tm_mon=3, tm_mday=23, tm_hour=0, tm_min=0, tm_sec=0, tm_wday=1, tm_yday=82, tm_isdst=-1)\n",
            "03/23/2021, 00:00:00\n"
          ]
        }
      ]
    },
    {
      "cell_type": "markdown",
      "source": [
        "## <font color = lightblue> 7.3.Import Math\n",
        "\n",
        "Muita das vezes é necessário artifícios matemáticos além dos já inclusos no próprio Python, como operadores aritiméticos e trigonométricos por exemplo.\n",
        "\n"
      ],
      "metadata": {
        "id": "JMMHXZQuiw1b"
      }
    },
    {
      "cell_type": "markdown",
      "source": [
        "**Funções Gerais**"
      ],
      "metadata": {
        "id": "MBetxH6UmEnE"
      }
    },
    {
      "cell_type": "code",
      "source": [
        "import math\n",
        "\n",
        "# Valor abstoluto.\n",
        "print(abs(-1))\n",
        "\n",
        "# Arredondamento superior\n",
        "print(math.ceil(math.pi))\n",
        "\n",
        "# Arredondamento inferior\n",
        "print(math.floor(math.pi))\n",
        "\n",
        "# Distancia entre dois pontos\n",
        "q = (1, 2)\n",
        "w = (6, 4)\n",
        "\n",
        "print(math.dist(q, w))\n"
      ],
      "metadata": {
        "colab": {
          "base_uri": "https://localhost:8080/"
        },
        "id": "WUQG9epq6Dc_",
        "outputId": "d1dac321-a49a-4d79-baff-ade54d0bccbf"
      },
      "execution_count": null,
      "outputs": [
        {
          "output_type": "stream",
          "name": "stdout",
          "text": [
            "1\n",
            "4\n",
            "3\n",
            "5.385164807134504\n"
          ]
        }
      ]
    },
    {
      "cell_type": "markdown",
      "source": [
        "**Funções Trigonométricas**"
      ],
      "metadata": {
        "id": "N5NqyhdUvVgW"
      }
    },
    {
      "cell_type": "code",
      "source": [
        "import math\n",
        "# Função seno.\n",
        "print(round(math.sin(math.pi/6),2))\n",
        "# Função cosseno.\n",
        "print(round(math.cos(math.pi/3),2))\n",
        "# Função tangente.\n",
        "print(round(math.tan(math.pi/4),2))"
      ],
      "metadata": {
        "colab": {
          "base_uri": "https://localhost:8080/"
        },
        "id": "gyzC3_KBvUcj",
        "outputId": "dfa767e9-66ce-406c-fbfc-56f518a08027"
      },
      "execution_count": null,
      "outputs": [
        {
          "output_type": "stream",
          "name": "stdout",
          "text": [
            "0.5\n",
            "0.5\n",
            "1.0\n"
          ]
        }
      ]
    },
    {
      "cell_type": "markdown",
      "source": [
        "**Funções Exponenciais e Logaritmicas**\n"
      ],
      "metadata": {
        "id": "L310ZcJ9zUpJ"
      }
    },
    {
      "cell_type": "code",
      "source": [
        "import math\n",
        "# Função logaritmo decimal.\n",
        "print(math.log10(100))\n",
        "# Função logaritmo geral.\n",
        "print(math.log(36,6))\n",
        "# Função logaritmo natural.\n",
        "print(math.log(1,math.e))\n",
        "# Função exponencial natural.\n",
        "print(round(math.exp(1), 2))"
      ],
      "metadata": {
        "colab": {
          "base_uri": "https://localhost:8080/"
        },
        "id": "ZtZgEE_Rzj3i",
        "outputId": "a21819ba-b62d-48ff-96a2-f78695a09933"
      },
      "execution_count": null,
      "outputs": [
        {
          "output_type": "stream",
          "name": "stdout",
          "text": [
            "2.0\n",
            "2.0\n",
            "0.0\n",
            "2.72\n"
          ]
        }
      ]
    },
    {
      "cell_type": "markdown",
      "source": [
        "## 7.4.Import Random\n",
        "Pacote responsável por gerar valores aleatórios úteis para o estudo de probabilidades."
      ],
      "metadata": {
        "id": "b6DpYJvZs6wt"
      }
    },
    {
      "cell_type": "code",
      "source": [
        "import random\n",
        "lista_r = [0, 1, 2, 3, 4, 5, 6, 7, 8, 9]\n",
        "print(random.choice(lista_r)) # Escolhendo ao acaso um valor dentro da lista_r.\n",
        "palavra_r = \"aleatorio\"\n",
        "print(random.choice(palavra_r)) # Escolhendo ao acaso uma letra dentro da variável.\n",
        "print(round(random.random(), 2)) # Escolhendo um número aleatório entre 0 e 1.\n",
        "print(random.randint(0,99)) # Escolhendo um intervalo para a escolha aleatória."
      ],
      "metadata": {
        "colab": {
          "base_uri": "https://localhost:8080/"
        },
        "id": "4v1NfQiKs5x9",
        "outputId": "ae5286a0-7aab-4c8b-d152-aa0c12903c67"
      },
      "execution_count": null,
      "outputs": [
        {
          "output_type": "stream",
          "name": "stdout",
          "text": [
            "2\n",
            "o\n",
            "0.96\n",
            "76\n"
          ]
        }
      ]
    },
    {
      "cell_type": "markdown",
      "source": [
        "## 7.5.Import Statistics\n",
        "Pacote responsável por importar as funções mais usuais em estatística."
      ],
      "metadata": {
        "id": "dLp55giny_qd"
      }
    },
    {
      "cell_type": "code",
      "source": [
        "import statistics\n",
        "lista_s = [0,1, 1, 2, 3, 5, 8, 13, 21, 34, 55, 89, 144, 233, 377, 610, 987, 1597, 2584]\n",
        "# Calculando a média aritmética simples.\n",
        "print(round(statistics.mean(lista_s),2))\n",
        "# Calculando a mediana\n",
        "print(round(statistics.median(lista_s),2))\n",
        "# Determinando a moda\n",
        "print(statistics.mode(lista_s))"
      ],
      "metadata": {
        "colab": {
          "base_uri": "https://localhost:8080/"
        },
        "id": "0L4IP7SEuc-y",
        "outputId": "7482b12b-26ff-4cec-8c26-349d2b12a0e8"
      },
      "execution_count": null,
      "outputs": [
        {
          "output_type": "stream",
          "name": "stdout",
          "text": [
            "356\n",
            "34\n",
            "1\n",
            "45\n"
          ]
        }
      ]
    },
    {
      "cell_type": "markdown",
      "source": [
        "# <font color = lightblue> 8.Funções\n",
        "\n",
        "Funções são blocos de scripts armazenados que são executados quado solicitados.\n",
        "\n"
      ],
      "metadata": {
        "id": "EmGNi38wEAJF"
      }
    },
    {
      "cell_type": "code",
      "source": [
        "# Criando uma função produto.\n",
        "def Produto(fator_1, fator_2):\n",
        "  Mult = fator_1 * fator_2\n",
        "# Return retorna o valor bruto da função sem a necessidade de print.\n",
        "  return Mult\n",
        "# Testando a função\n",
        "Produto(2, 3)"
      ],
      "metadata": {
        "id": "R3aHEzuoEjXI",
        "colab": {
          "base_uri": "https://localhost:8080/"
        },
        "outputId": "e320b35d-2f0a-4f90-b7d0-a76df7a11342"
      },
      "execution_count": null,
      "outputs": [
        {
          "output_type": "execute_result",
          "data": {
            "text/plain": [
              "6"
            ]
          },
          "metadata": {},
          "execution_count": 3
        }
      ]
    },
    {
      "cell_type": "code",
      "source": [
        "# Solicitando a função:\n",
        "import random\n",
        "\n",
        "for loop in range (0, 9):\n",
        "\n",
        "  p_1 = random.random()\n",
        "  p_2 = random.random()\n",
        "\n",
        "# Usando a função criada anteriormente.\n",
        "  print(Produto(p_1, p_2))"
      ],
      "metadata": {
        "colab": {
          "base_uri": "https://localhost:8080/"
        },
        "id": "7UfSEVW4FSRI",
        "outputId": "9dad00f0-5107-4da8-afe7-4ee63dec775a"
      },
      "execution_count": null,
      "outputs": [
        {
          "output_type": "stream",
          "name": "stdout",
          "text": [
            "0.5157310601132388\n",
            "0.003986011548628758\n",
            "0.08520994312007156\n",
            "4.127249824677273e-05\n",
            "0.09343812039701756\n",
            "0.04342001653221746\n",
            "0.3464705983943578\n",
            "0.09420159559573253\n",
            "0.3728970453702573\n"
          ]
        }
      ]
    },
    {
      "cell_type": "markdown",
      "source": [
        "## <font color = lightblue> 8.1.Função Lambda\n",
        "A função Lambda é uma função anônima, isto é, não precisa de definição nem retorno. Usamos o comando **lambda** para invoca-la, em seguida, o comando desejado em linha."
      ],
      "metadata": {
        "id": "bheq5_Pb4yTt"
      }
    },
    {
      "cell_type": "code",
      "source": [
        "# Função simples utilizando somente aritmética.\n",
        "Soma_lambda = lambda vlr_1, vlr_2: vlr_1 + vlr_2\n",
        "Soma_lambda(2,3)"
      ],
      "metadata": {
        "colab": {
          "base_uri": "https://localhost:8080/"
        },
        "id": "Z1aOpGFd5g_7",
        "outputId": "7818d850-adbc-4144-b8b0-0ce01b7f2e84"
      },
      "execution_count": null,
      "outputs": [
        {
          "output_type": "execute_result",
          "data": {
            "text/plain": [
              "5"
            ]
          },
          "metadata": {},
          "execution_count": 5
        }
      ]
    },
    {
      "cell_type": "code",
      "source": [
        "# Função de maior complexidade utilizando sentenças lógicas.\n",
        "Tabuada = lambda num: [ Tabu * num for Tabu in range(1, 11)]\n",
        "Tabuada(15)"
      ],
      "metadata": {
        "colab": {
          "base_uri": "https://localhost:8080/"
        },
        "id": "-nX2hS_o6gnD",
        "outputId": "5fea888f-46a5-495e-d063-e4128ee4c62e"
      },
      "execution_count": null,
      "outputs": [
        {
          "output_type": "execute_result",
          "data": {
            "text/plain": [
              "[15, 30, 45, 60, 75, 90, 105, 120, 135, 150]"
            ]
          },
          "metadata": {},
          "execution_count": 10
        }
      ]
    },
    {
      "cell_type": "markdown",
      "source": [
        "##<font color = lightblue> 8.2.Exercícios"
      ],
      "metadata": {
        "id": "VjyMW5iuHGaA"
      }
    },
    {
      "cell_type": "markdown",
      "source": [
        "<font color = yellow>  Exercício 1:\n",
        "\n",
        "Crie uma função que calcule o discriminante de uma função quadrática. Dado por:\n",
        "\n",
        "$$ \\Delta = b^2 - 4ac $$"
      ],
      "metadata": {
        "id": "uyqzZNMCIFr5"
      }
    },
    {
      "cell_type": "code",
      "source": [
        "def delta(a, b, c):\n",
        "  delta = b**2 - 4 * a * c\n",
        "  return delta"
      ],
      "metadata": {
        "id": "a8febvoPID1I"
      },
      "execution_count": null,
      "outputs": []
    },
    {
      "cell_type": "code",
      "source": [
        "delta (1, 2 , 2)"
      ],
      "metadata": {
        "colab": {
          "base_uri": "https://localhost:8080/"
        },
        "id": "YTnrY-qQJAVO",
        "outputId": "880928ea-a123-4e0a-9f0f-674af8197bc6"
      },
      "execution_count": null,
      "outputs": [
        {
          "output_type": "execute_result",
          "data": {
            "text/plain": [
              "-4"
            ]
          },
          "metadata": {},
          "execution_count": 18
        }
      ]
    },
    {
      "cell_type": "markdown",
      "source": [
        "<font color = yellow>  Exercício 2:\n",
        "\n",
        "Crie uma função que calcule o $x_v$ e $y_v$ de uma função quadrática. Dados por:\n",
        "\n",
        "$$ V(x_v, y_v) = \\left( -\\frac{b}{2a}, \\frac{\\Delta}{4a} \\right) $$"
      ],
      "metadata": {
        "id": "7ErXa_hTJLpm"
      }
    },
    {
      "cell_type": "markdown",
      "source": [],
      "metadata": {
        "id": "i-dYiW7cOzJE"
      }
    },
    {
      "cell_type": "code",
      "source": [
        "def Vertice(a, b, c):\n",
        "  x_v = - b / 2 * a\n",
        "  y_v = - delta(a, b, c) / 4 * a\n",
        "  # print(\" O x vértice é \" + str(x_v) + \" e o y vértice é \" + str(y_v))\n",
        "  return x_v, y_v"
      ],
      "metadata": {
        "id": "nnDD6wv2JJwV"
      },
      "execution_count": null,
      "outputs": []
    },
    {
      "cell_type": "code",
      "source": [
        "Vertice (1, 2, 2)"
      ],
      "metadata": {
        "colab": {
          "base_uri": "https://localhost:8080/"
        },
        "id": "LR2DQs4vKQRx",
        "outputId": "2ffbfc6c-0b63-4ad0-8c43-41572f60a939"
      },
      "execution_count": null,
      "outputs": [
        {
          "output_type": "execute_result",
          "data": {
            "text/plain": [
              "(-1.0, 1.0)"
            ]
          },
          "metadata": {},
          "execution_count": 47
        }
      ]
    },
    {
      "cell_type": "markdown",
      "source": [
        "<font color = yellow>  Exercício 3:\n",
        "\n",
        "Crie uma função que calcule os zeros de uma função quadrática. Determinados por:\n",
        "\n",
        "$$ x = \\frac{{-b \\pm \\sqrt{{\\Delta}}}}{{2a}} $$"
      ],
      "metadata": {
        "id": "FuDi3mGhO01x"
      }
    },
    {
      "cell_type": "code",
      "source": [
        "import math\n",
        "\n",
        "def zeros_func(a, b, c):\n",
        "  if a == 0:\n",
        "    print(\"Não é função do segundo grau\")\n",
        "  if delta(a, b, c) < 0:\n",
        "    print(\"A função não possui zeros reais\")\n",
        "\n",
        "  if delta(a, b, c) > 0:\n",
        "\n",
        "    x_1 = (- b + math.sqrt(delta(a, b, c)))/ 2 * a\n",
        "    x_2 = (- b - math.sqrt(delta(a, b, c)))/ 2 * a\n",
        "\n",
        "    return x_1, x_2\n",
        "    # print(\" O x_1 é \" + str(x_1) + \" e o x_2 é \" + str(x_2))\n",
        "\n",
        "  if delta(a, b, c) == 0:\n",
        "    x_0 = - b/ 2 * a\n",
        "    print(\"Os zeros da função são iguais a: \" + str(x_0))"
      ],
      "metadata": {
        "id": "Y-9vgbw8O6Wp"
      },
      "execution_count": null,
      "outputs": []
    },
    {
      "cell_type": "code",
      "source": [
        "print(zeros_func(1, 4, 4))\n",
        "print(zeros_func(1, 2, 2))\n",
        "print(zeros_func(1, 5, 6))\n",
        "print(zeros_func(0, 4, 4))"
      ],
      "metadata": {
        "colab": {
          "base_uri": "https://localhost:8080/"
        },
        "id": "jSyk-d7wRHfp",
        "outputId": "6a363dbf-e81c-43b8-ce66-1aac5cba03b1"
      },
      "execution_count": null,
      "outputs": [
        {
          "output_type": "stream",
          "name": "stdout",
          "text": [
            "Os zeros da função são iguais a: -2.0\n",
            "None\n",
            "A função não possui zeros reais\n",
            "None\n",
            "(-2.0, -3.0)\n",
            "Não é função do segundo grau\n",
            "(0.0, -0.0)\n"
          ]
        }
      ]
    },
    {
      "cell_type": "markdown",
      "source": [
        "# <font color = lightblue> 9.Tratamento de Erros\n",
        " Para o tratamento de erros usaremos a estrutura **Try**, **Except**, **Else** e **Finally** para encontrar os possíveis erros exceções classificando-os, para portanto contorna-los.\n",
        "\n",
        "O try permite testar um script que apresente erros.\n",
        "\n",
        "O except permite classificar o erro.\n",
        "\n",
        "O else permite executar script quando não há erro.\n",
        "\n",
        "O finally permite executar o script, independentemente do resultado dos blocos try e except."
      ],
      "metadata": {
        "id": "OPC31FL1ESgR"
      }
    },
    {
      "cell_type": "code",
      "source": [
        "# Testando uma razão impossível.\n",
        "try:\n",
        "  0 / 0\n",
        "except:\n",
        "  print('Cálculo impossível')\n",
        "finally:\n",
        "  print('Execute isso de qualquer maneira')\n"
      ],
      "metadata": {
        "colab": {
          "base_uri": "https://localhost:8080/"
        },
        "id": "Wyc1xOsVHwiA",
        "outputId": "d6cd9913-883a-43bd-aaa8-5be28b22dd19"
      },
      "execution_count": null,
      "outputs": [
        {
          "output_type": "stream",
          "name": "stdout",
          "text": [
            "Cálculo impossível\n",
            "Execute isso de qualquer maneira\n"
          ]
        }
      ]
    },
    {
      "cell_type": "markdown",
      "source": [
        "<font color = yellow>  Exercício 3:\n",
        "\n",
        "Crie um script que armazene somente um número inteiro.\n"
      ],
      "metadata": {
        "id": "iJDeWIrwtimj"
      }
    },
    {
      "cell_type": "code",
      "source": [
        "def Leia_Int(Inteiro_msg):\n",
        "  while True:\n",
        "    try:\n",
        "      Inteiro = int(input(Inteiro_msg))\n",
        "    except(ValueError, TypeError):\n",
        "      print('Argumento digitado não é um inteiro')\n",
        "      continue\n",
        "    except(KeyboardInterrupt):\n",
        "      print('Usuário interrompeu a execução')\n",
        "      return 0\n",
        "    else:\n",
        "      return Inteiro\n",
        "\n",
        "n1 = Leia_Int(\"Digite um inteiro: \")\n",
        "print('O inteiro digitado foi: ', n1)"
      ],
      "metadata": {
        "colab": {
          "base_uri": "https://localhost:8080/"
        },
        "id": "FD1J0bJatIU_",
        "outputId": "72dad1ab-b4e8-411a-f953-b7c3ea7acd86"
      },
      "execution_count": null,
      "outputs": [
        {
          "output_type": "stream",
          "name": "stdout",
          "text": [
            "Digite um inteiro: 3\n",
            "3\n",
            "O inteiro digitado foi:  3\n"
          ]
        }
      ]
    },
    {
      "cell_type": "markdown",
      "source": [
        "# <font color = lightblue> 10.Arrays e  N-dimensional array\n",
        "\n",
        "Arrays simples e multidimencionais são extremamente úteis quando estamos lidando com um único tipo de dado, especialmente se forem do tipo int ou float. A diferença entre arrays simples e N-dimensional arrays (arrays multidimensionais) em Python está principalmente na estrutura e na forma como os dados são organizados e acessados. Vamos explorar isso com mais detalhes adiante neste tópico."
      ],
      "metadata": {
        "id": "uc-H7q5UBkVS"
      }
    },
    {
      "cell_type": "markdown",
      "source": [
        "## <font color = lightblue> 10.1.Arrays\n",
        "\n",
        "Em Python, a estrutura de dados mais próxima do conceito de \"array\" em outras linguagens de programação são as listas. No entanto, Python também possui arrays, mas eles são menos comuns e têm algumas diferenças em comparação com listas.\n",
        "\n",
        "**Listas**: As listas em Python como já visto antes são coleções ordenadas e mutáveis de elementos. Elas podem armazenar diferentes tipos de dados (números, strings, objetos, etc.).\n",
        "\n",
        "\n",
        "**Arrays**: Arrays em Python são oferecidos pelo módulo array, que fornece uma estrutura de dados mais eficiente em termos de memória para armazenar grandes coleções de dados homogêneos (todos do mesmo tipo).\n",
        "\n",
        "Devemos importar a bibliotéca array (*import > array*) ou numpy (*import > numpy*) para criar os arrays."
      ],
      "metadata": {
        "id": "v50OhdbnuxmQ"
      }
    },
    {
      "cell_type": "code",
      "source": [
        "import array\n",
        "import numpy as np\n",
        "# Criando um array de inteiros\n",
        "meu_array = np.array([1, 2, 3, 4, 5])\n",
        "print(meu_array)"
      ],
      "metadata": {
        "colab": {
          "base_uri": "https://localhost:8080/"
        },
        "id": "Ej0IljRW_pzC",
        "outputId": "b1c38c9e-e6c8-49aa-96be-98ffd38513f0"
      },
      "execution_count": null,
      "outputs": [
        {
          "output_type": "stream",
          "name": "stdout",
          "text": [
            "[1 2 3 4 5]\n"
          ]
        }
      ]
    },
    {
      "cell_type": "markdown",
      "source": [
        "### 10.1.1 <font color = lightblue>  Acessando Arrays\n",
        "\n",
        "Podemos acessar elementos individuais de um array usando índices. Os índices começam em $0$."
      ],
      "metadata": {
        "id": "mgR_qIeiJtMt"
      }
    },
    {
      "cell_type": "code",
      "source": [
        "# Acessando o primeiro elemento\n",
        "print(meu_array[0])\n",
        "\n",
        "# Acessando o terceiro elemento\n",
        "print(meu_array[2])\n",
        "\n",
        "# Acessando o último elemento\n",
        "print(meu_array[-1])"
      ],
      "metadata": {
        "colab": {
          "base_uri": "https://localhost:8080/"
        },
        "id": "c8PTMUtdJlrx",
        "outputId": "a4cea592-f07c-45ec-e90a-1d65a37f58f0"
      },
      "execution_count": null,
      "outputs": [
        {
          "output_type": "stream",
          "name": "stdout",
          "text": [
            "1\n",
            "3\n",
            "5\n"
          ]
        }
      ]
    },
    {
      "cell_type": "markdown",
      "source": [
        "### 10.1.2 <font color = lightblue>  Códigos de Tipo em Arrays\n",
        "\n",
        "Códigos de tipo são caracteres que especificam o tipo de elementos que um array do módulo array em Python pode armazenar. Eles garantem que todos os elementos do array sejam do mesmo tipo, o que é importante para a eficiência de memória e desempenho. Podemos listar três diretrizes.\n",
        "\n",
        "**I - Eficiência de Memória**: Arrays utilizam uma quantidade fixa de memória por elemento, baseada no tipo de dado. Isso é mais eficiente do que listas, que podem armazenar elementos de diferentes tipos e têm mais overhead.\n",
        "\n",
        "**II - Desempenho**: Operações em arrays são geralmente mais rápidas que em listas, pois o tipo de dado é conhecido e fixo.\n",
        "\n",
        "**III - Interoperabilidade**: Facilita a integração com outras linguagens (como $C$) que esperam dados em formatos específicos."
      ],
      "metadata": {
        "id": "1irbuYvIBN75"
      }
    },
    {
      "cell_type": "markdown",
      "source": [
        "<font color = lightblue> Código de tipo\n",
        "\n",
        "Escolher o código de tipo depende do tipo de dados que você precisa armazenar no array. São eles:\n",
        "\n",
        "**Inteiros Pequenos**: Use 'b' para inteiros com sinal de $1$ byte, ou 'B' para inteiros sem sinal de $1$ byte.\n",
        "\n",
        "\n",
        "**Inteiros Médios**: Use 'h' ou 'H' para inteiros de $2$ bytes.\n",
        "\n",
        "\n",
        "**Inteiros Grandes**: Use 'i', 'I', 'l', 'L', 'q', ou 'Q' dependendo do tamanho e se são com ou sem sinal.\n",
        "\n",
        "\n",
        "**Números de Ponto Flutuante**: Use 'f' para floats (precisão simples) e 'd' para doubles (precisão dupla).\n"
      ],
      "metadata": {
        "id": "ToFIJnmMIRy0"
      }
    },
    {
      "cell_type": "code",
      "source": [
        "# Criando um array de inteiros com o código de tipo 'i'\n",
        "meu_array = array.array('i', [1, 2, 3, 4, 5])\n",
        "\n",
        "# Acessando elementos\n",
        "print(meu_array[0])"
      ],
      "metadata": {
        "colab": {
          "base_uri": "https://localhost:8080/"
        },
        "id": "sHKkisr0A33Y",
        "outputId": "682d6bbd-d4da-46b7-f10b-408b9a7e644c"
      },
      "execution_count": null,
      "outputs": [
        {
          "output_type": "stream",
          "name": "stdout",
          "text": [
            "1\n"
          ]
        }
      ]
    },
    {
      "cell_type": "code",
      "source": [
        "# Criando um array de flutuantes com o código de tipo 'd'\n",
        "meu_array = array.array('d', [1.1, 2.2, 3.3, 4.4, 5.5])\n",
        "\n",
        "# Acessando elementos\n",
        "print(meu_array[0])"
      ],
      "metadata": {
        "colab": {
          "base_uri": "https://localhost:8080/"
        },
        "id": "2KIT4Yz0LvkS",
        "outputId": "db950dfd-4588-4386-d1f0-bf40725b66ad"
      },
      "execution_count": null,
      "outputs": [
        {
          "output_type": "stream",
          "name": "stdout",
          "text": [
            "1.1\n"
          ]
        }
      ]
    },
    {
      "cell_type": "markdown",
      "source": [
        "## <font color = lightblue> 10.2.N-dimensional Arrays\n",
        "\n",
        "ndarray (abreviação de N-dimensional array) é o principal objeto da biblioteca numpy. Ele representa um array multidimensional de elementos de um único tipo de dados. É altamente eficiente para operações matemáticas e científicas devido à sua implementação otimizada e à capacidade de operar sobre grandes volumes de dados de forma rápida e eficaz. Podemos listar três carcaterísticas importantes.\n",
        "\n",
        "**I - Multidimensionalidade**: Pode ser um array de qualquer dimensão, desde $1D$ (vetor) até $nD$ (tensores).\n",
        "\n",
        "**II - Homogeneidade**: Todos os elementos do ndarray são do mesmo tipo de dados.\n",
        "\n",
        "**III - Operações Vetorizadas**: Suporta operações aritméticas e funções matemáticas aplicadas a todos os elementos de forma vetorizada, o que melhora significativamente o desempenho.\n",
        "\n",
        "\n",
        "\n",
        "\n"
      ],
      "metadata": {
        "id": "jQwgI6VzfsKF"
      }
    },
    {
      "cell_type": "markdown",
      "source": [
        "### <font color = lightblue> 10.2.1 Criação de ndarrays\n",
        "\n",
        "Podemos criar um ndarray a partir de listas ou outras estruturas de dados usando a função **np.array()**."
      ],
      "metadata": {
        "id": "FHLBI6cnhFXs"
      }
    },
    {
      "cell_type": "code",
      "source": [
        "import numpy as np\n",
        "\n",
        "# Criando um array 1D\n",
        "array_1d = np.array([1, 2, 3, 4, 5])\n",
        "print(array_1d)"
      ],
      "metadata": {
        "colab": {
          "base_uri": "https://localhost:8080/"
        },
        "id": "IzkPREyPl7D9",
        "outputId": "67c880a8-01c1-4895-e44a-ceea15365962"
      },
      "execution_count": 2,
      "outputs": [
        {
          "output_type": "stream",
          "name": "stdout",
          "text": [
            "[1 2 3 4 5]\n"
          ]
        }
      ]
    },
    {
      "cell_type": "code",
      "source": [
        "# Criando um array 2D\n",
        "array_2d = np.array([[1, 2, 3], [4, 5, 6]])\n",
        "print(array_2d)"
      ],
      "metadata": {
        "colab": {
          "base_uri": "https://localhost:8080/"
        },
        "id": "BV6yCh5ImOpc",
        "outputId": "7efb7bce-caa9-417c-f769-8bad231c2883"
      },
      "execution_count": null,
      "outputs": [
        {
          "output_type": "stream",
          "name": "stdout",
          "text": [
            "[[1 2 3]\n",
            " [4 5 6]]\n"
          ]
        }
      ]
    },
    {
      "cell_type": "code",
      "source": [
        "# Criando um array 3D\n",
        "array_3d = np.array([[[1,2,3],[4,5,6],[7,8,9]]])\n",
        "print(array_3d, array_3d.ndim)"
      ],
      "metadata": {
        "colab": {
          "base_uri": "https://localhost:8080/"
        },
        "id": "3cdz8JgqmPbE",
        "outputId": "12a585a8-cec6-4476-e150-7b142ac7ff5a"
      },
      "execution_count": 3,
      "outputs": [
        {
          "output_type": "stream",
          "name": "stdout",
          "text": [
            "[[[1 2 3]\n",
            "  [4 5 6]\n",
            "  [7 8 9]]] 3\n"
          ]
        }
      ]
    },
    {
      "cell_type": "markdown",
      "source": [
        "<font color = lightblue> Outras formas de criar ndarrays\n"
      ],
      "metadata": {
        "id": "27rplzmbqPBw"
      }
    },
    {
      "cell_type": "markdown",
      "source": [
        "Criando arrays com zeros.\n"
      ],
      "metadata": {
        "id": "HHeCmtOOqXHL"
      }
    },
    {
      "cell_type": "code",
      "source": [
        "# 1D\n",
        "azeros = np.zeros(5)\n",
        "azeros"
      ],
      "metadata": {
        "id": "P0vAR63gqbXr",
        "colab": {
          "base_uri": "https://localhost:8080/"
        },
        "outputId": "2e08bef3-40ad-4d23-e2a0-796c7a577acf"
      },
      "execution_count": null,
      "outputs": [
        {
          "output_type": "execute_result",
          "data": {
            "text/plain": [
              "array([0., 0., 0., 0., 0.])"
            ]
          },
          "metadata": {},
          "execution_count": 20
        }
      ]
    },
    {
      "cell_type": "code",
      "source": [
        "# 2D\n",
        "bzeros = np.zeros((3, 4))\n",
        "# 3 linhas e 4 colunas\n",
        "bzeros"
      ],
      "metadata": {
        "id": "ivwLCVa3qehR",
        "colab": {
          "base_uri": "https://localhost:8080/"
        },
        "outputId": "445c5ee0-f550-42aa-b02d-6f17ad434f1e"
      },
      "execution_count": null,
      "outputs": [
        {
          "output_type": "execute_result",
          "data": {
            "text/plain": [
              "array([[0., 0., 0., 0.],\n",
              "       [0., 0., 0., 0.],\n",
              "       [0., 0., 0., 0.]])"
            ]
          },
          "metadata": {},
          "execution_count": 21
        }
      ]
    },
    {
      "cell_type": "code",
      "source": [
        "# 3D\n",
        "czeros = np.zeros((3, 4, 2))\n",
        "# 3 páginas, 4 linhas e 2 colunas\n",
        "czeros"
      ],
      "metadata": {
        "id": "xvyzSCdPqexn",
        "colab": {
          "base_uri": "https://localhost:8080/"
        },
        "outputId": "bf7aadcc-4cfc-4737-82db-58e76932c4e7"
      },
      "execution_count": null,
      "outputs": [
        {
          "output_type": "execute_result",
          "data": {
            "text/plain": [
              "array([[[0., 0.],\n",
              "        [0., 0.],\n",
              "        [0., 0.],\n",
              "        [0., 0.]],\n",
              "\n",
              "       [[0., 0.],\n",
              "        [0., 0.],\n",
              "        [0., 0.],\n",
              "        [0., 0.]],\n",
              "\n",
              "       [[0., 0.],\n",
              "        [0., 0.],\n",
              "        [0., 0.],\n",
              "        [0., 0.]]])"
            ]
          },
          "metadata": {},
          "execution_count": 22
        }
      ]
    },
    {
      "cell_type": "markdown",
      "source": [
        "Criando ndarrays com uns."
      ],
      "metadata": {
        "id": "Lw0Dpc7prNSD"
      }
    },
    {
      "cell_type": "code",
      "source": [
        "# 1D\n",
        "aones = np.ones(5)\n",
        "aones"
      ],
      "metadata": {
        "colab": {
          "base_uri": "https://localhost:8080/"
        },
        "id": "9DWFqnQdrMUk",
        "outputId": "2cd70741-424b-489a-902f-c760a76447b7"
      },
      "execution_count": null,
      "outputs": [
        {
          "output_type": "execute_result",
          "data": {
            "text/plain": [
              "array([1., 1., 1., 1., 1.])"
            ]
          },
          "metadata": {},
          "execution_count": 23
        }
      ]
    },
    {
      "cell_type": "code",
      "source": [
        "# 2D\n",
        "bones = np.ones((3,4))\n",
        "bones"
      ],
      "metadata": {
        "colab": {
          "base_uri": "https://localhost:8080/"
        },
        "id": "_YUA6p1arZP5",
        "outputId": "3faa0003-27f0-4ae3-bd00-0cd8773ae885"
      },
      "execution_count": null,
      "outputs": [
        {
          "output_type": "execute_result",
          "data": {
            "text/plain": [
              "array([[1., 1., 1., 1.],\n",
              "       [1., 1., 1., 1.],\n",
              "       [1., 1., 1., 1.]])"
            ]
          },
          "metadata": {},
          "execution_count": 24
        }
      ]
    },
    {
      "cell_type": "code",
      "source": [
        "# 3D\n",
        "cones = np.ones((3,4,2))\n",
        "cones"
      ],
      "metadata": {
        "colab": {
          "base_uri": "https://localhost:8080/"
        },
        "id": "KZJYZ9JVrZGS",
        "outputId": "d4338d86-176e-4122-d9ff-382f5a547bea"
      },
      "execution_count": null,
      "outputs": [
        {
          "output_type": "execute_result",
          "data": {
            "text/plain": [
              "array([[[1., 1.],\n",
              "        [1., 1.],\n",
              "        [1., 1.],\n",
              "        [1., 1.]],\n",
              "\n",
              "       [[1., 1.],\n",
              "        [1., 1.],\n",
              "        [1., 1.],\n",
              "        [1., 1.]],\n",
              "\n",
              "       [[1., 1.],\n",
              "        [1., 1.],\n",
              "        [1., 1.],\n",
              "        [1., 1.]]])"
            ]
          },
          "metadata": {},
          "execution_count": 25
        }
      ]
    },
    {
      "cell_type": "markdown",
      "source": [
        "Criando ndarray com valores aleatórios"
      ],
      "metadata": {
        "id": "EQ-MlKyHliFX"
      }
    },
    {
      "cell_type": "code",
      "source": [
        "# Criando um ndarray variando de 1 a 100 randomizado, com 3 página, 4 linhas e 3 colunas.\n",
        "nd_random = np.random.randint(1,101,(3,4,3))\n",
        "nd_random"
      ],
      "metadata": {
        "colab": {
          "base_uri": "https://localhost:8080/"
        },
        "id": "cm9fOEYLbFlQ",
        "outputId": "b42341bf-9b48-467a-fd26-7c51d2f51fc8"
      },
      "execution_count": 9,
      "outputs": [
        {
          "output_type": "execute_result",
          "data": {
            "text/plain": [
              "array([[[ 5, 25, 69],\n",
              "        [70, 15, 53],\n",
              "        [63, 60, 41],\n",
              "        [90, 37, 49]],\n",
              "\n",
              "       [[33, 77, 88],\n",
              "        [95, 67, 55],\n",
              "        [84, 13, 20],\n",
              "        [76, 44,  1]],\n",
              "\n",
              "       [[30, 77, 29],\n",
              "        [72, 43, 53],\n",
              "        [98, 23, 98],\n",
              "        [92, 30, 26]]])"
            ]
          },
          "metadata": {},
          "execution_count": 9
        }
      ]
    },
    {
      "cell_type": "markdown",
      "source": [
        "## <font color = lightblue>10.2.2 Acessando Ndarray\n",
        "Podemos acessar elementos individuais de um ndarray usando índices. Os índices começam em $0$, assim como nos arrays."
      ],
      "metadata": {
        "id": "MHjy-j7Dc2Jr"
      }
    },
    {
      "cell_type": "code",
      "source": [
        "# Acessando a primeira página.\n",
        "print(nd_random[0])\n",
        "\n",
        "# Acessando a primeira linha.\n",
        "print(nd_random[0][0])\n",
        "\n",
        "# Acessando o primeiro elemento da primeira página da primeira linha.\n",
        "print(nd_random[0][0][0])"
      ],
      "metadata": {
        "colab": {
          "base_uri": "https://localhost:8080/"
        },
        "id": "hUtMy0DQdSio",
        "outputId": "9d00df1f-b86c-41fc-dbd2-061f7794d14f"
      },
      "execution_count": 11,
      "outputs": [
        {
          "output_type": "stream",
          "name": "stdout",
          "text": [
            "[[ 5 25 69]\n",
            " [70 15 53]\n",
            " [63 60 41]\n",
            " [90 37 49]]\n",
            "[ 5 25 69]\n",
            "5\n"
          ]
        }
      ]
    },
    {
      "cell_type": "markdown",
      "source": [
        "<font color = lightblue> Acessando em condições e elementos específicos"
      ],
      "metadata": {
        "id": "HKniWoTkeYFW"
      }
    },
    {
      "cell_type": "code",
      "source": [
        "# Acessando o primeiro elemento da segunda página da segunda linha.\n",
        "print(nd_random[2][1][0])\n",
        "\n",
        "# Acessando linhas dois a dois, da terceira página.\n",
        "print(nd_random [2][:][::2])\n",
        "\n",
        "# Acessando a terceira coluna da terceira página.\n",
        "# Lista enumerada de linhas.\n",
        "linha_random = [0,1,2,3]\n",
        "# Lista enumerada de colunas.\n",
        "coluna_random = [2,2,2,2]\n",
        "# Acessando a coluna desejada.\n",
        "print(nd_random[2][linha_random,coluna_random])"
      ],
      "metadata": {
        "colab": {
          "base_uri": "https://localhost:8080/"
        },
        "id": "2c233pp2epo9",
        "outputId": "1380d59a-57f4-48aa-e11e-70d3358514c9"
      },
      "execution_count": 24,
      "outputs": [
        {
          "output_type": "stream",
          "name": "stdout",
          "text": [
            "72\n",
            "[[30 77 29]\n",
            " [98 23 98]]\n",
            "[29 53 98 26]\n"
          ]
        }
      ]
    },
    {
      "cell_type": "markdown",
      "source": [
        "# <font color = lightblue> 11.Orientação a Objetos\n",
        "\n",
        "A linguagem Python é considerada uma linguagem multiparadigma, isto é, possibilita diferentes tipos de método de programação são elas: processual, funcional, imperativa e orientação a objetos.\n",
        "A **orientação a obejtos** ou **OOP** de longe é o paradigma mais recorrente em Python, pois possibilita a interação entre objetos de forma mais eficaz. A OOP é sustentada em quatro pilares:\n",
        "\n",
        "**I - Abstração**:Na programação orientada a objetos, a construção dos objetos é baseada em uma Classeque representa as características desse objeto.\n",
        "\n",
        "\n",
        "**II - Encapsulamento**: O princípio de encapsulamento consiste em \"esconder\" a parte funcional dos objetos de forma que quem utiliza não tenha que conhecer mais do que o necessário para utilizá-lo.\n",
        "\n",
        "\n",
        "**III - A herança**: Consiste em determinar que uma classe existe por si mesma, porém, ela é uma outra classe em sua essência.\n",
        "\n",
        "**IV - Polimorfismo**: O conceito do polimorfismo é permitir que comportamentos comuns a $n$ tipos de classes possam ser definidos de forma específica para cada classe.\n",
        "\n"
      ],
      "metadata": {
        "id": "DD84Ej8Goo6g"
      }
    },
    {
      "cell_type": "code",
      "source": [
        "class sujeito_bi:\n",
        "  # Construindo um objeto (método construtor)\n",
        "  def __init__(self, Nome, Ano):\n",
        "    self.Nome = Nome\n",
        "    self.Ano = int(Ano)\n",
        "\n",
        "  def Ano_bissexto(self):\n",
        "    print(\"Olá\", self.Nome, \"seu ano de nascimento é bissexto\")\n",
        "  def Ano_nbissexto(self):\n",
        "    print(\"Olá\", self.Nome, \"seu ano de nascimento não é bissexto\")\n",
        "\n",
        "  def Calculo_idade(self):\n",
        "    if self.Ano % 4 == 0:\n",
        "      print(\"Excelente! =)\")\n",
        "      self.Ano_bissexto()\n",
        "    else:\n",
        "      print(\"Que pena! =(\")\n",
        "      self.Ano_nbissexto()\n"
      ],
      "metadata": {
        "id": "w4HF-WNBshNq"
      },
      "execution_count": null,
      "outputs": []
    },
    {
      "cell_type": "code",
      "source": [
        "Idade_bissexto = sujeito_bi(\"Saulo\", 1994)\n",
        "print(Idade_bissexto.Calculo_idade())\n",
        "Idade_bissexto = sujeito_bi(\"Matheus\", 1996)\n",
        "print(Idade_bissexto.Calculo_idade())\n"
      ],
      "metadata": {
        "colab": {
          "base_uri": "https://localhost:8080/"
        },
        "id": "TxIynsgewqkE",
        "outputId": "8dea2247-e06f-4344-c229-05e40a6b418a"
      },
      "execution_count": null,
      "outputs": [
        {
          "output_type": "stream",
          "name": "stdout",
          "text": [
            "Que pena! =(\n",
            "Olá Saulo seu ano de nascimento não é bissexto\n",
            "None\n",
            "Excelente! =)\n",
            "Olá Matheus seu ano de nascimento é bissexto\n",
            "None\n"
          ]
        }
      ]
    },
    {
      "cell_type": "code",
      "source": [
        "dic = { \"MG\": {\"Capital\": \"Belo Horizonte\",\n",
        "               \"Cidades\": {1:\"Contagem\",\n",
        "                           2:\"Luiz de Fora\",\n",
        "                           3:\"Sete Lagoas\"}\n",
        "              },\n",
        "        \"SP\": {\"Capital\": \"São Paulo\",\n",
        "               \"Cidades\": {1:\"Campinas\",\n",
        "                           2:\"Piracicaba\",\n",
        "                           3:\"Franca\"}\n",
        "              },\n",
        "        \"RS\": {\"Capital\": \"Porto Alegre\",\n",
        "               \"Cidades\": {1:\"Pelotas\",\n",
        "                           2:\"Gramado\",\n",
        "                           3:\"Canela\"}\n",
        "              }\n",
        "      }\n",
        "dic[\"MG\"][\"Cidades\"][2]= \"Juiz de Fora\"\n",
        "dic\n"
      ],
      "metadata": {
        "colab": {
          "base_uri": "https://localhost:8080/"
        },
        "id": "RSQYHklY3UyE",
        "outputId": "db1a0d94-5ae5-4d7b-c538-865882660020"
      },
      "execution_count": null,
      "outputs": [
        {
          "output_type": "execute_result",
          "data": {
            "text/plain": [
              "{'MG': {'Capital': 'Belo Horizonte',\n",
              "  'Cidades': {1: 'Contagem', 2: 'Juiz de Fora', 3: 'Sete Lagoas'}},\n",
              " 'SP': {'Capital': 'São Paulo',\n",
              "  'Cidades': {1: 'Campinas', 2: 'Piracicaba', 3: 'Franca'}},\n",
              " 'RS': {'Capital': 'Porto Alegre',\n",
              "  'Cidades': {1: 'Pelotas', 2: 'Gramado', 3: 'Canela'}}}"
            ]
          },
          "metadata": {},
          "execution_count": 9
        }
      ]
    },
    {
      "cell_type": "code",
      "source": [
        "X = [3, 6, 1, 9, 2, 4, 7]\n",
        "print(X[-1::-1])\n",
        "\n",
        "print(X[6:0:-1])\n",
        "\n",
        "print(X[:0:-1])\n",
        "\n",
        "print(X[::-1])\n",
        "\n",
        "print(X[6::-1])"
      ],
      "metadata": {
        "colab": {
          "base_uri": "https://localhost:8080/"
        },
        "id": "ADXSvIrEEZdS",
        "outputId": "f95fe02a-5d6d-4873-bc81-6b1ae2253c78"
      },
      "execution_count": null,
      "outputs": [
        {
          "output_type": "stream",
          "name": "stdout",
          "text": [
            "[7, 4, 2, 9, 1, 6, 3]\n",
            "[7, 4, 2, 9, 1, 6]\n",
            "[7, 4, 2, 9, 1, 6]\n",
            "[7, 4, 2, 9, 1, 6, 3]\n",
            "[7, 4, 2, 9, 1, 6, 3]\n"
          ]
        }
      ]
    }
  ]
}