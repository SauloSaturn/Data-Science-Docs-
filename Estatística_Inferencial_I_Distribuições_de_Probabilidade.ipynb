{
  "nbformat": 4,
  "nbformat_minor": 0,
  "metadata": {
    "colab": {
      "provenance": [],
      "toc_visible": true,
      "authorship_tag": "ABX9TyNXnU+8nqmErJpnF9ibkUyo",
      "include_colab_link": true
    },
    "kernelspec": {
      "name": "python3",
      "display_name": "Python 3"
    },
    "language_info": {
      "name": "python"
    }
  },
  "cells": [
    {
      "cell_type": "markdown",
      "metadata": {
        "id": "view-in-github",
        "colab_type": "text"
      },
      "source": [
        "<a href=\"https://colab.research.google.com/github/SauloSaturn/Data-Science-Docs-/blob/main/Estat%C3%ADstica_Inferencial_I_Distribui%C3%A7%C3%B5es_de_Probabilidade.ipynb\" target=\"_parent\"><img src=\"https://colab.research.google.com/assets/colab-badge.svg\" alt=\"Open In Colab\"/></a>"
      ]
    },
    {
      "cell_type": "code",
      "execution_count": null,
      "metadata": {
        "id": "6C85UNyAsRwa"
      },
      "outputs": [],
      "source": []
    },
    {
      "cell_type": "markdown",
      "source": [
        "# Nova seção"
      ],
      "metadata": {
        "id": "SB08UnCLsSbQ"
      }
    },
    {
      "cell_type": "markdown",
      "source": [
        "# <font color = lightblue> 2. Distribuições de Probabilidades Discretas\n",
        "\n",
        "\n"
      ],
      "metadata": {
        "id": "lpQimIxRsSjE"
      }
    },
    {
      "cell_type": "markdown",
      "source": [
        "## <font color = lightblue>  2.1. Distribuição de Bernoulli\n",
        "\n",
        "### Distribuição de Bernoulli\n",
        "\n",
        "A distribuição de Bernoulli é uma distribuição de probabilidade discreta para uma variável aleatória que assume dois possíveis valores (binários): $1$ (sucesso) com probabilidade $p$ e $0$ (fracasso) com probabilidade $q$ onde $q = 1 - p$. A função de massa de probabilidade (PMF) da distribuição de Bernoulli é dada por:\n",
        "\n",
        "$$\n",
        "P(X = x) = \\begin{cases}\n",
        "p & \\text{se } x = 1 \\\\\n",
        "1 - p & \\text{se } x = 0\n",
        "\\end{cases}\n",
        "$$\n",
        "\n",
        "onde $0 \\leq p \\leq 1$.\n",
        "\n"
      ],
      "metadata": {
        "id": "YoZ0-yZEtE8s"
      }
    },
    {
      "cell_type": "markdown",
      "source": [
        "<font color = lightblue> Exemplo\n",
        "\n",
        " Exemplo Prático com Dado Honesto (Ensaio Único)\n",
        "\n",
        "Vamos considerar a situação de lançar um dado honesto uma vez. A probabilidade de obter um $6$ (sucesso) é de $ \\frac{1}{6} $ e a probabilidade de não obter um $6$ (fracasso) é de $ \\frac{5}{6} $.\n"
      ],
      "metadata": {
        "id": "vj-yI6q21BQV"
      }
    },
    {
      "cell_type": "markdown",
      "source": [
        "<font color = lightblue> Resolução analítica\n",
        "\n",
        "Neste caso, $p = \\frac{1}{6}$. Portanto:\n",
        "\n",
        "$$\n",
        "P(X = 1) = \\frac{1}{6}\n",
        "$$\n",
        "\n",
        "$$\n",
        "P(X = 0) = 1 - \\frac{1}{6} = \\frac{5}{6}\n",
        "$$\n",
        "\n",
        "Isto é p"
      ],
      "metadata": {
        "id": "LncA81Yiz_HU"
      }
    },
    {
      "cell_type": "markdown",
      "source": [
        "<font color = lightblue> Resolução numérica"
      ],
      "metadata": {
        "id": "FYMzCOJ11ZwS"
      }
    },
    {
      "cell_type": "code",
      "source": [
        "import numpy as np\n",
        "import scipy.stats as st\n",
        "\n",
        "# Parâmetro da distribuição de Bernoulli.\n",
        "p = 1/6\n",
        "q = 1 - p\n",
        "# Calculando a probabilidade.\n",
        "prob_bin = st.binom.pmf(1,1,p)\n",
        "print(prob_bin)"
      ],
      "metadata": {
        "colab": {
          "base_uri": "https://localhost:8080/"
        },
        "id": "RbS1DG2Lz8B9",
        "outputId": "5ae0da28-58be-4605-d9d0-e4e413a52dce"
      },
      "execution_count": 15,
      "outputs": [
        {
          "output_type": "stream",
          "name": "stdout",
          "text": [
            "0.16666666666666666\n"
          ]
        }
      ]
    },
    {
      "cell_type": "code",
      "source": [
        "import matplotlib.pyplot as plt\n",
        "\n",
        "# Definindo os pontos.\n",
        "x = [0, 1]\n",
        "p_x = [round(5/6,2), round(1/6,2)]\n",
        "\n",
        "# Criando o gráfico de pontos.\n",
        "plt.scatter(x, p_x, color='blue')\n",
        "\n",
        "# Adicionando títulos e rótulos aos eixos.\n",
        "plt.title('Gráfico de Pontos de Distribuição de Bernoulli')\n",
        "plt.xlabel('x')\n",
        "plt.ylabel('p(x)')\n",
        "\n",
        "# Adicionando rótulos aos pontos.\n",
        "for i, txt in enumerate(p_x):\n",
        "    plt.annotate(f'p({x[i]}) = {txt}', (x[i], p_x[i]), textcoords=\"offset points\", xytext=(0,10), ha='center')\n",
        "\n",
        "# Exibindo o gráfico.\n",
        "plt.grid(True)\n",
        "plt.show()\n"
      ],
      "metadata": {
        "colab": {
          "base_uri": "https://localhost:8080/",
          "height": 472
        },
        "id": "_WxPAHnh9btq",
        "outputId": "d90da89a-a6d2-4b04-df0f-bfce73ed8c43"
      },
      "execution_count": 19,
      "outputs": [
        {
          "output_type": "display_data",
          "data": {
            "text/plain": [
              "<Figure size 640x480 with 1 Axes>"
            ],
            "image/png": "[encoded data removed]"
          },
          "metadata": {}
        }
      ]
    },
    {
      "cell_type": "markdown",
      "source": [
        "## <font color = lightblue>  2.1. Distribuição Binomial\n",
        "\n"
      ],
      "metadata": {
        "id": "rnQNjtjb7Irz"
      }
    }
  ]
}